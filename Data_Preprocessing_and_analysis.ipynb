{
  "nbformat": 4,
  "nbformat_minor": 0,
  "metadata": {
    "colab": {
      "name": "Data Preprocessing and analysis.ipynb",
      "provenance": [],
      "authorship_tag": "ABX9TyM5taMrOfD+fN7EA4/95534",
      "include_colab_link": true
    },
    "kernelspec": {
      "name": "python3",
      "display_name": "Python 3"
    }
  },
  "cells": [
    {
      "cell_type": "markdown",
      "metadata": {
        "id": "view-in-github",
        "colab_type": "text"
      },
      "source": [
        "<a href=\"https://colab.research.google.com/github/sasikanth1113/End-to-End-Python/blob/master/Data_Preprocessing_and_analysis.ipynb\" target=\"_parent\"><img src=\"https://colab.research.google.com/assets/colab-badge.svg\" alt=\"Open In Colab\"/></a>"
      ]
    },
    {
      "cell_type": "code",
      "metadata": {
        "id": "Ctuok4d4uD-I",
        "colab_type": "code",
        "colab": {}
      },
      "source": [
        ""
      ],
      "execution_count": 0,
      "outputs": []
    },
    {
      "cell_type": "markdown",
      "metadata": {
        "id": "XYiwPeHyuSkv",
        "colab_type": "text"
      },
      "source": [
        "# Data Processing and Analysis\n",
        "Data Processing is the most important and most time consuming component of the overall lifecycle of any Machine Learning project.\n",
        "\n",
        "In this notebook, we will analyze a dummy dataset to understand different issues we face with real world datasets and steps to handle the same.\n",
        "\n",
        "# Utilities\n",
        "We add in some utility functions here which we will be using across this notebook. We have also packaged it into a utils.py file which you can use offline. Since we will be using colab for the tutorials, we add in all the functions in the same notebook to save the hassle of file uploads and drive connects"
      ]
    },
    {
      "cell_type": "code",
      "metadata": {
        "id": "ELXiaCK9uZrp",
        "colab_type": "code",
        "colab": {}
      },
      "source": [
        "import datetime\n",
        "import random\n",
        "from random import randrange\n",
        "import numpy as np\n",
        "import pandas as pd\n",
        "\n",
        "\n",
        "def _random_date(start,date_count):\n",
        "    \"\"\"This function generates a random date based on params\n",
        "    Args:\n",
        "        start (date object): the base date\n",
        "        date_count (int): number of dates to be generated\n",
        "    Returns:\n",
        "        list of random dates\n",
        "\n",
        "    \"\"\"\n",
        "    current = start\n",
        "    while date_count > 0:\n",
        "        curr = current + datetime.timedelta(days=randrange(42))\n",
        "        yield curr\n",
        "        date_count-=1\n",
        "        \n",
        "        \n",
        "\n",
        "def generate_sample_data(row_count=100):\n",
        "    \"\"\"This function generates a random transaction dataset\n",
        "    Args:\n",
        "        row_count (int): number of rows for the dataframe\n",
        "    Returns:\n",
        "        a pandas dataframe\n",
        "\n",
        "    \"\"\"\n",
        "\n",
        "    # sentinels\n",
        "    startDate = datetime.datetime(2016, 1, 1, 13)\n",
        "    serial_number_sentinel = 1000\n",
        "    user_id_sentinel = 5001\n",
        "    product_id_sentinel = 101\n",
        "    price_sentinel = 2000\n",
        "\n",
        "    # base list of attributes\n",
        "    data_dict = {\n",
        "        'Serial No':\n",
        "        np.arange(row_count) + serial_number_sentinel,\n",
        "        'Date':\n",
        "        np.random.permutation(\n",
        "            pd.to_datetime([\n",
        "                x.strftime(\"%d-%m-%Y\")\n",
        "                for x in _random_date(startDate, row_count)\n",
        "            ]).date),\n",
        "        'User ID':\n",
        "        np.random.permutation(\n",
        "            np.random.randint(0, row_count, size=int(row_count / 10)) +\n",
        "            user_id_sentinel).tolist() * 10,\n",
        "        'Product ID':\n",
        "        np.random.permutation(\n",
        "            np.random.randint(0, row_count, size=int(row_count / 10)) +\n",
        "            product_id_sentinel).tolist() * 10,\n",
        "        'Quantity Purchased':\n",
        "        np.random.permutation(np.random.randint(1, 42, size=row_count)),\n",
        "        'Price':\n",
        "        np.round(\n",
        "            np.abs(np.random.randn(row_count) + 1) * price_sentinel,\n",
        "            decimals=2),\n",
        "        'User Type':\n",
        "        np.random.permutation(\n",
        "            [chr(random.randrange(97, 97 + 3 + 1)) for i in range(row_count)])\n",
        "    }\n",
        "\n",
        "    # introduce missing values\n",
        "    for index in range(int(np.sqrt(row_count))):\n",
        "        data_dict['Price'][np.argmax(\n",
        "            data_dict['Price'] == random.choice(data_dict['Price']))] = np.nan\n",
        "        data_dict['User Type'][np.argmax(\n",
        "            data_dict['User Type'] == random.choice(\n",
        "                data_dict['User Type']))] = np.nan\n",
        "        data_dict['Date'][np.argmax(\n",
        "            data_dict['Date'] == random.choice(data_dict['Date']))] = np.nan\n",
        "        data_dict['Product ID'][np.argmax(data_dict['Product ID'] == random.\n",
        "                                          choice(data_dict['Product ID']))] = 0\n",
        "        data_dict['Serial No'][np.argmax(data_dict['Serial No'] == random.\n",
        "                                         choice(data_dict['Serial No']))] = -1\n",
        "        data_dict['User ID'][np.argmax(data_dict['User ID'] == random.choice(\n",
        "            data_dict['User ID']))] = -101\n",
        "\n",
        "    # create data frame\n",
        "    df = pd.DataFrame(data_dict)\n",
        "\n",
        "    return df"
      ],
      "execution_count": 0,
      "outputs": []
    },
    {
      "cell_type": "code",
      "metadata": {
        "id": "4kDJNuF6uy9K",
        "colab_type": "code",
        "colab": {}
      },
      "source": [
        "import numpy as np\n",
        "import pandas as pd\n",
        "from IPython.display import display\n",
        "from sklearn import preprocessing\n",
        "\n",
        "pd.options.mode.chained_assignment = None"
      ],
      "execution_count": 0,
      "outputs": []
    },
    {
      "cell_type": "markdown",
      "metadata": {
        "id": "rYwOmHU2u8WB",
        "colab_type": "text"
      },
      "source": [
        "#### Generate Dataset\n",
        "Question: Generate 1000 sample rows"
      ]
    },
    {
      "cell_type": "code",
      "metadata": {
        "id": "SsayUye5vCHN",
        "colab_type": "code",
        "colab": {
          "base_uri": "https://localhost:8080/",
          "height": 34
        },
        "outputId": "a7862707-6b11-4766-c03c-e307117a6206"
      },
      "source": [
        "## Generate a dataset with 1000 rows\n",
        "df = generate_sample_data(row_count=1000)\n",
        "df.shape"
      ],
      "execution_count": 5,
      "outputs": [
        {
          "output_type": "execute_result",
          "data": {
            "text/plain": [
              "(1000, 7)"
            ]
          },
          "metadata": {
            "tags": []
          },
          "execution_count": 5
        }
      ]
    },
    {
      "cell_type": "markdown",
      "metadata": {
        "id": "J0XxGum8vj_s",
        "colab_type": "text"
      },
      "source": [
        "Analyze generated Dataset"
      ]
    },
    {
      "cell_type": "code",
      "metadata": {
        "id": "QWn1pU-bvmHC",
        "colab_type": "code",
        "colab": {
          "base_uri": "https://localhost:8080/",
          "height": 204
        },
        "outputId": "ba464db4-5a2d-4a56-af42-15acd236df05"
      },
      "source": [
        "df.head()"
      ],
      "execution_count": 6,
      "outputs": [
        {
          "output_type": "execute_result",
          "data": {
            "text/html": [
              "<div>\n",
              "<style scoped>\n",
              "    .dataframe tbody tr th:only-of-type {\n",
              "        vertical-align: middle;\n",
              "    }\n",
              "\n",
              "    .dataframe tbody tr th {\n",
              "        vertical-align: top;\n",
              "    }\n",
              "\n",
              "    .dataframe thead th {\n",
              "        text-align: right;\n",
              "    }\n",
              "</style>\n",
              "<table border=\"1\" class=\"dataframe\">\n",
              "  <thead>\n",
              "    <tr style=\"text-align: right;\">\n",
              "      <th></th>\n",
              "      <th>Serial No</th>\n",
              "      <th>Date</th>\n",
              "      <th>User ID</th>\n",
              "      <th>Product ID</th>\n",
              "      <th>Quantity Purchased</th>\n",
              "      <th>Price</th>\n",
              "      <th>User Type</th>\n",
              "    </tr>\n",
              "  </thead>\n",
              "  <tbody>\n",
              "    <tr>\n",
              "      <th>0</th>\n",
              "      <td>1000</td>\n",
              "      <td>NaN</td>\n",
              "      <td>-101</td>\n",
              "      <td>0</td>\n",
              "      <td>23</td>\n",
              "      <td>3269.85</td>\n",
              "      <td>n</td>\n",
              "    </tr>\n",
              "    <tr>\n",
              "      <th>1</th>\n",
              "      <td>1001</td>\n",
              "      <td>NaN</td>\n",
              "      <td>5243</td>\n",
              "      <td>209</td>\n",
              "      <td>35</td>\n",
              "      <td>2014.99</td>\n",
              "      <td>n</td>\n",
              "    </tr>\n",
              "    <tr>\n",
              "      <th>2</th>\n",
              "      <td>1002</td>\n",
              "      <td>2016-01-15</td>\n",
              "      <td>5622</td>\n",
              "      <td>1017</td>\n",
              "      <td>19</td>\n",
              "      <td>5008.50</td>\n",
              "      <td>n</td>\n",
              "    </tr>\n",
              "    <tr>\n",
              "      <th>3</th>\n",
              "      <td>1003</td>\n",
              "      <td>2016-01-29</td>\n",
              "      <td>5089</td>\n",
              "      <td>743</td>\n",
              "      <td>28</td>\n",
              "      <td>NaN</td>\n",
              "      <td>n</td>\n",
              "    </tr>\n",
              "    <tr>\n",
              "      <th>4</th>\n",
              "      <td>1004</td>\n",
              "      <td>NaN</td>\n",
              "      <td>5179</td>\n",
              "      <td>613</td>\n",
              "      <td>14</td>\n",
              "      <td>377.25</td>\n",
              "      <td>n</td>\n",
              "    </tr>\n",
              "  </tbody>\n",
              "</table>\n",
              "</div>"
            ],
            "text/plain": [
              "   Serial No        Date  User ID  ...  Quantity Purchased    Price  User Type\n",
              "0       1000         NaN     -101  ...                  23  3269.85          n\n",
              "1       1001         NaN     5243  ...                  35  2014.99          n\n",
              "2       1002  2016-01-15     5622  ...                  19  5008.50          n\n",
              "3       1003  2016-01-29     5089  ...                  28      NaN          n\n",
              "4       1004         NaN     5179  ...                  14   377.25          n\n",
              "\n",
              "[5 rows x 7 columns]"
            ]
          },
          "metadata": {
            "tags": []
          },
          "execution_count": 6
        }
      ]
    },
    {
      "cell_type": "markdown",
      "metadata": {
        "id": "iQKQyqKpvzjS",
        "colab_type": "text"
      },
      "source": [
        "### Dataframe Stats\n",
        "#### Determine the following:\n",
        "\n",
        "- The number of data points (rows). (Hint: check out the dataframe .shape attribute.)\n",
        "- The column names. (Hint: check out the dataframe .columns attribute.)\n",
        "- The data types for each column. (Hint: check out the dataframe .dtypes attribute.)\n"
      ]
    },
    {
      "cell_type": "code",
      "metadata": {
        "id": "-S9pzm43v7YA",
        "colab_type": "code",
        "colab": {
          "base_uri": "https://localhost:8080/",
          "height": 34
        },
        "outputId": "828290f0-8a33-465f-9250-830cd501d0ea"
      },
      "source": [
        "print(\"Number of rows::\",df.shape[0])"
      ],
      "execution_count": 7,
      "outputs": [
        {
          "output_type": "stream",
          "text": [
            "Number of rows:: 1000\n"
          ],
          "name": "stdout"
        }
      ]
    },
    {
      "cell_type": "markdown",
      "metadata": {
        "id": "TJIM5WUDwBbm",
        "colab_type": "text"
      },
      "source": [
        "Question\n",
        "- Get the number of columns"
      ]
    },
    {
      "cell_type": "code",
      "metadata": {
        "id": "qJCyuKa2wCNw",
        "colab_type": "code",
        "colab": {
          "base_uri": "https://localhost:8080/",
          "height": 34
        },
        "outputId": "1ebc28ce-04d6-4531-942c-9d7a90607133"
      },
      "source": [
        "print(\"Number of columns::\",df.shape[1])"
      ],
      "execution_count": 8,
      "outputs": [
        {
          "output_type": "stream",
          "text": [
            "Number of columns:: 7\n"
          ],
          "name": "stdout"
        }
      ]
    },
    {
      "cell_type": "code",
      "metadata": {
        "id": "KG2brys-wKak",
        "colab_type": "code",
        "colab": {
          "base_uri": "https://localhost:8080/",
          "height": 34
        },
        "outputId": "44b2a3d4-e143-4e8b-c1d8-78e139a70096"
      },
      "source": [
        "print(\"Column Names::\",df.columns.values.tolist())"
      ],
      "execution_count": 9,
      "outputs": [
        {
          "output_type": "stream",
          "text": [
            "Column Names:: ['Serial No', 'Date', 'User ID', 'Product ID', 'Quantity Purchased', 'Price', 'User Type']\n"
          ],
          "name": "stdout"
        }
      ]
    },
    {
      "cell_type": "code",
      "metadata": {
        "id": "RZePeCSswQns",
        "colab_type": "code",
        "colab": {
          "base_uri": "https://localhost:8080/",
          "height": 170
        },
        "outputId": "992ba618-e949-47cf-e58b-c63e46340e4a"
      },
      "source": [
        "print(\"Column Data Types::\\n\",df.dtypes)"
      ],
      "execution_count": 10,
      "outputs": [
        {
          "output_type": "stream",
          "text": [
            "Column Data Types::\n",
            " Serial No               int64\n",
            "Date                   object\n",
            "User ID                 int64\n",
            "Product ID              int64\n",
            "Quantity Purchased      int64\n",
            "Price                 float64\n",
            "User Type              object\n",
            "dtype: object\n"
          ],
          "name": "stdout"
        }
      ]
    },
    {
      "cell_type": "code",
      "metadata": {
        "id": "uYVPVJ-_wUkE",
        "colab_type": "code",
        "colab": {
          "base_uri": "https://localhost:8080/",
          "height": 34
        },
        "outputId": "dbf7d8f3-8adb-4a36-9980-103bb8da53b0"
      },
      "source": [
        "print(\"Columns with Missing Values::\",df.columns[df.isnull().any()].tolist())"
      ],
      "execution_count": 11,
      "outputs": [
        {
          "output_type": "stream",
          "text": [
            "Columns with Missing Values:: ['Date', 'Price']\n"
          ],
          "name": "stdout"
        }
      ]
    },
    {
      "cell_type": "code",
      "metadata": {
        "id": "jIP2LNVFzFGT",
        "colab_type": "code",
        "colab": {
          "base_uri": "https://localhost:8080/",
          "height": 88
        },
        "outputId": "031a6ee5-3cb9-49f6-ea6a-181d6bf2714b"
      },
      "source": [
        "print(\"Number of rows with Missing Values::\",len(pd.isnull(df).any(1).nonzero()[0].tolist()))\n"
      ],
      "execution_count": 12,
      "outputs": [
        {
          "output_type": "stream",
          "text": [
            "Number of rows with Missing Values:: 62\n"
          ],
          "name": "stdout"
        },
        {
          "output_type": "stream",
          "text": [
            "/usr/local/lib/python3.6/dist-packages/ipykernel_launcher.py:1: FutureWarning: Series.nonzero() is deprecated and will be removed in a future version.Use Series.to_numpy().nonzero() instead\n",
            "  \"\"\"Entry point for launching an IPython kernel.\n"
          ],
          "name": "stderr"
        }
      ]
    },
    {
      "cell_type": "code",
      "metadata": {
        "id": "88MZ1rcWzMzJ",
        "colab_type": "code",
        "colab": {
          "base_uri": "https://localhost:8080/",
          "height": 238
        },
        "outputId": "57d11202-65c9-411f-b651-e272c4dec48b"
      },
      "source": [
        "print(df.info())"
      ],
      "execution_count": 13,
      "outputs": [
        {
          "output_type": "stream",
          "text": [
            "<class 'pandas.core.frame.DataFrame'>\n",
            "RangeIndex: 1000 entries, 0 to 999\n",
            "Data columns (total 7 columns):\n",
            "Serial No             1000 non-null int64\n",
            "Date                  969 non-null object\n",
            "User ID               1000 non-null int64\n",
            "Product ID            1000 non-null int64\n",
            "Quantity Purchased    1000 non-null int64\n",
            "Price                 969 non-null float64\n",
            "User Type             1000 non-null object\n",
            "dtypes: float64(1), int64(4), object(2)\n",
            "memory usage: 54.8+ KB\n",
            "None\n"
          ],
          "name": "stdout"
        }
      ]
    },
    {
      "cell_type": "code",
      "metadata": {
        "id": "2mHnpO_FzO-n",
        "colab_type": "code",
        "colab": {
          "base_uri": "https://localhost:8080/",
          "height": 170
        },
        "outputId": "61f2c1a9-7229-4189-8382-abc26b3b60db"
      },
      "source": [
        "print(df.describe())"
      ],
      "execution_count": 14,
      "outputs": [
        {
          "output_type": "stream",
          "text": [
            "         Serial No      User ID   Product ID  Quantity Purchased        Price\n",
            "count  1000.000000  1000.000000  1000.000000         1000.000000   969.000000\n",
            "mean   1450.945000  5497.766000   596.272000           20.039000  2304.632817\n",
            "std     384.168376   330.554757   283.027459           11.787554  1560.091313\n",
            "min      -1.000000  -101.000000     0.000000            1.000000     0.810000\n",
            "25%    1224.750000  5243.000000   361.000000            9.000000  1111.360000\n",
            "50%    1480.500000  5509.000000   616.000000           19.000000  2104.250000\n",
            "75%    1736.250000  5758.750000   844.750000           30.000000  3225.970000\n",
            "max    1999.000000  5992.000000  1093.000000           41.000000  8429.130000\n"
          ],
          "name": "stdout"
        }
      ]
    },
    {
      "cell_type": "markdown",
      "metadata": {
        "id": "AwVJniMWzXKz",
        "colab_type": "text"
      },
      "source": [
        "#### Standardize Columns\n",
        "Question\n",
        "- Use columns attribute and tolist() method to get the list of all columns"
      ]
    },
    {
      "cell_type": "code",
      "metadata": {
        "id": "kJgl1nENzZr4",
        "colab_type": "code",
        "colab": {
          "base_uri": "https://localhost:8080/",
          "height": 51
        },
        "outputId": "b4ee713d-41af-4f45-eeda-e9980651097a"
      },
      "source": [
        "# list all columns\n",
        "print(\"Dataframe columns:\\n{}\".format(df.columns.tolist()))"
      ],
      "execution_count": 15,
      "outputs": [
        {
          "output_type": "stream",
          "text": [
            "Dataframe columns:\n",
            "['Serial No', 'Date', 'User ID', 'Product ID', 'Quantity Purchased', 'Price', 'User Type']\n"
          ],
          "name": "stdout"
        }
      ]
    },
    {
      "cell_type": "markdown",
      "metadata": {
        "id": "rEU4Xt9wzgW1",
        "colab_type": "text"
      },
      "source": [
        "### Utility to Standardize Columns\n",
        "- Question : We usually use lowercase-snakecased column names in python. Write a utility method to do the same. You may user methods like lower, replace. Setting inplace = True avoid creating a copy of your dataframe"
      ]
    },
    {
      "cell_type": "code",
      "metadata": {
        "id": "JNAWNeqRzjcc",
        "colab_type": "code",
        "colab": {}
      },
      "source": [
        "def cleanup_column_names(df,rename_dict={},do_inplace=True):\n",
        "    \"\"\"This function renames columns of a pandas dataframe\n",
        "       It converts column names to snake case if rename_dict is not passed. \n",
        "    Args:\n",
        "        rename_dict (dict): keys represent old column names and values point to \n",
        "                            newer ones\n",
        "        do_inplace (bool): flag to update existing dataframe or return a new one\n",
        "    Returns:\n",
        "        pandas dataframe if do_inplace is set to False, None otherwise\n",
        "\n",
        "    \"\"\"\n",
        "    if not rename_dict:\n",
        "        # lower case and replace <space> with <underscore>\n",
        "        return df.rename(columns={col: col.lower().replace(' ','_') \n",
        "                            for col in df.columns.values.tolist()}, \n",
        "                         inplace=True)\n",
        "    else:\n",
        "        return df.rename(columns=rename_dict,inplace=do_inplace)"
      ],
      "execution_count": 0,
      "outputs": []
    },
    {
      "cell_type": "code",
      "metadata": {
        "id": "kRc8R44mztNq",
        "colab_type": "code",
        "colab": {}
      },
      "source": [
        "cleanup_column_names(df)"
      ],
      "execution_count": 0,
      "outputs": []
    },
    {
      "cell_type": "code",
      "metadata": {
        "id": "bT3i1CZNzy9V",
        "colab_type": "code",
        "colab": {
          "base_uri": "https://localhost:8080/",
          "height": 51
        },
        "outputId": "fb1d1599-a16b-48dc-fe98-70acf17eabc4"
      },
      "source": [
        "# Updated column names\n",
        "print(\"Dataframe columns:\\n{}\".format(df.columns.tolist()))"
      ],
      "execution_count": 18,
      "outputs": [
        {
          "output_type": "stream",
          "text": [
            "Dataframe columns:\n",
            "['serial_no', 'date', 'user_id', 'product_id', 'quantity_purchased', 'price', 'user_type']\n"
          ],
          "name": "stdout"
        }
      ]
    },
    {
      "cell_type": "markdown",
      "metadata": {
        "id": "cklmx34Gz3NE",
        "colab_type": "text"
      },
      "source": [
        "### Basic Manipulation\n",
        "\n",
        "#### Sort basis specific attributes\n",
        "- Question: Sort serial_no in ascending and price in descending order."
      ]
    },
    {
      "cell_type": "code",
      "metadata": {
        "id": "YFePSg57z-Kn",
        "colab_type": "code",
        "colab": {
          "base_uri": "https://localhost:8080/",
          "height": 204
        },
        "outputId": "924db941-dac5-4a47-8919-becde14ec39b"
      },
      "source": [
        "# Ascending for Serial No and Descending for Price\n",
        "display(df.sort_values(['serial_no', 'price'], \n",
        "                         ascending=[True, False]).head())"
      ],
      "execution_count": 19,
      "outputs": [
        {
          "output_type": "display_data",
          "data": {
            "text/html": [
              "<div>\n",
              "<style scoped>\n",
              "    .dataframe tbody tr th:only-of-type {\n",
              "        vertical-align: middle;\n",
              "    }\n",
              "\n",
              "    .dataframe tbody tr th {\n",
              "        vertical-align: top;\n",
              "    }\n",
              "\n",
              "    .dataframe thead th {\n",
              "        text-align: right;\n",
              "    }\n",
              "</style>\n",
              "<table border=\"1\" class=\"dataframe\">\n",
              "  <thead>\n",
              "    <tr style=\"text-align: right;\">\n",
              "      <th></th>\n",
              "      <th>serial_no</th>\n",
              "      <th>date</th>\n",
              "      <th>user_id</th>\n",
              "      <th>product_id</th>\n",
              "      <th>quantity_purchased</th>\n",
              "      <th>price</th>\n",
              "      <th>user_type</th>\n",
              "    </tr>\n",
              "  </thead>\n",
              "  <tbody>\n",
              "    <tr>\n",
              "      <th>895</th>\n",
              "      <td>-1</td>\n",
              "      <td>2016-01-27</td>\n",
              "      <td>5372</td>\n",
              "      <td>126</td>\n",
              "      <td>15</td>\n",
              "      <td>5902.34</td>\n",
              "      <td>d</td>\n",
              "    </tr>\n",
              "    <tr>\n",
              "      <th>67</th>\n",
              "      <td>-1</td>\n",
              "      <td>NaN</td>\n",
              "      <td>5633</td>\n",
              "      <td>872</td>\n",
              "      <td>32</td>\n",
              "      <td>5451.02</td>\n",
              "      <td>d</td>\n",
              "    </tr>\n",
              "    <tr>\n",
              "      <th>641</th>\n",
              "      <td>-1</td>\n",
              "      <td>2016-01-17</td>\n",
              "      <td>5958</td>\n",
              "      <td>716</td>\n",
              "      <td>18</td>\n",
              "      <td>4035.13</td>\n",
              "      <td>b</td>\n",
              "    </tr>\n",
              "    <tr>\n",
              "      <th>53</th>\n",
              "      <td>-1</td>\n",
              "      <td>2016-01-27</td>\n",
              "      <td>5417</td>\n",
              "      <td>393</td>\n",
              "      <td>30</td>\n",
              "      <td>4024.55</td>\n",
              "      <td>b</td>\n",
              "    </tr>\n",
              "    <tr>\n",
              "      <th>865</th>\n",
              "      <td>-1</td>\n",
              "      <td>2016-10-02</td>\n",
              "      <td>5961</td>\n",
              "      <td>458</td>\n",
              "      <td>14</td>\n",
              "      <td>3685.11</td>\n",
              "      <td>b</td>\n",
              "    </tr>\n",
              "  </tbody>\n",
              "</table>\n",
              "</div>"
            ],
            "text/plain": [
              "     serial_no        date  user_id  ...  quantity_purchased    price  user_type\n",
              "895         -1  2016-01-27     5372  ...                  15  5902.34          d\n",
              "67          -1         NaN     5633  ...                  32  5451.02          d\n",
              "641         -1  2016-01-17     5958  ...                  18  4035.13          b\n",
              "53          -1  2016-01-27     5417  ...                  30  4024.55          b\n",
              "865         -1  2016-10-02     5961  ...                  14  3685.11          b\n",
              "\n",
              "[5 rows x 7 columns]"
            ]
          },
          "metadata": {
            "tags": []
          }
        }
      ]
    },
    {
      "cell_type": "markdown",
      "metadata": {
        "id": "XsnWeHhW0LMW",
        "colab_type": "text"
      },
      "source": [
        "**Reorder columns**"
      ]
    },
    {
      "cell_type": "code",
      "metadata": {
        "id": "ztWUD19u0G7f",
        "colab_type": "code",
        "colab": {
          "base_uri": "https://localhost:8080/",
          "height": 204
        },
        "outputId": "61abd5a3-3b6d-48e2-ed53-1aa4e881ca50"
      },
      "source": [
        "display(df[['serial_no','date','user_id','user_type',\n",
        "              'product_id','quantity_purchased','price']].head())"
      ],
      "execution_count": 20,
      "outputs": [
        {
          "output_type": "display_data",
          "data": {
            "text/html": [
              "<div>\n",
              "<style scoped>\n",
              "    .dataframe tbody tr th:only-of-type {\n",
              "        vertical-align: middle;\n",
              "    }\n",
              "\n",
              "    .dataframe tbody tr th {\n",
              "        vertical-align: top;\n",
              "    }\n",
              "\n",
              "    .dataframe thead th {\n",
              "        text-align: right;\n",
              "    }\n",
              "</style>\n",
              "<table border=\"1\" class=\"dataframe\">\n",
              "  <thead>\n",
              "    <tr style=\"text-align: right;\">\n",
              "      <th></th>\n",
              "      <th>serial_no</th>\n",
              "      <th>date</th>\n",
              "      <th>user_id</th>\n",
              "      <th>user_type</th>\n",
              "      <th>product_id</th>\n",
              "      <th>quantity_purchased</th>\n",
              "      <th>price</th>\n",
              "    </tr>\n",
              "  </thead>\n",
              "  <tbody>\n",
              "    <tr>\n",
              "      <th>0</th>\n",
              "      <td>1000</td>\n",
              "      <td>NaN</td>\n",
              "      <td>-101</td>\n",
              "      <td>n</td>\n",
              "      <td>0</td>\n",
              "      <td>23</td>\n",
              "      <td>3269.85</td>\n",
              "    </tr>\n",
              "    <tr>\n",
              "      <th>1</th>\n",
              "      <td>1001</td>\n",
              "      <td>NaN</td>\n",
              "      <td>5243</td>\n",
              "      <td>n</td>\n",
              "      <td>209</td>\n",
              "      <td>35</td>\n",
              "      <td>2014.99</td>\n",
              "    </tr>\n",
              "    <tr>\n",
              "      <th>2</th>\n",
              "      <td>1002</td>\n",
              "      <td>2016-01-15</td>\n",
              "      <td>5622</td>\n",
              "      <td>n</td>\n",
              "      <td>1017</td>\n",
              "      <td>19</td>\n",
              "      <td>5008.50</td>\n",
              "    </tr>\n",
              "    <tr>\n",
              "      <th>3</th>\n",
              "      <td>1003</td>\n",
              "      <td>2016-01-29</td>\n",
              "      <td>5089</td>\n",
              "      <td>n</td>\n",
              "      <td>743</td>\n",
              "      <td>28</td>\n",
              "      <td>NaN</td>\n",
              "    </tr>\n",
              "    <tr>\n",
              "      <th>4</th>\n",
              "      <td>1004</td>\n",
              "      <td>NaN</td>\n",
              "      <td>5179</td>\n",
              "      <td>n</td>\n",
              "      <td>613</td>\n",
              "      <td>14</td>\n",
              "      <td>377.25</td>\n",
              "    </tr>\n",
              "  </tbody>\n",
              "</table>\n",
              "</div>"
            ],
            "text/plain": [
              "   serial_no        date  user_id  ... product_id  quantity_purchased    price\n",
              "0       1000         NaN     -101  ...          0                  23  3269.85\n",
              "1       1001         NaN     5243  ...        209                  35  2014.99\n",
              "2       1002  2016-01-15     5622  ...       1017                  19  5008.50\n",
              "3       1003  2016-01-29     5089  ...        743                  28      NaN\n",
              "4       1004         NaN     5179  ...        613                  14   377.25\n",
              "\n",
              "[5 rows x 7 columns]"
            ]
          },
          "metadata": {
            "tags": []
          }
        }
      ]
    },
    {
      "cell_type": "markdown",
      "metadata": {
        "id": "GiSd-rCX0Vnt",
        "colab_type": "text"
      },
      "source": [
        "**Select attributes**"
      ]
    },
    {
      "cell_type": "code",
      "metadata": {
        "id": "z6UdhdQq0ZHf",
        "colab_type": "code",
        "colab": {
          "base_uri": "https://localhost:8080/",
          "height": 34
        },
        "outputId": "c75e69dc-dc31-4306-8564-40ce69dfba56"
      },
      "source": [
        "# Using Column Index\n",
        "# print 10 values from column at index 3\n",
        "print(df.iloc[:,3].values[0:10])"
      ],
      "execution_count": 21,
      "outputs": [
        {
          "output_type": "stream",
          "text": [
            "[   0  209 1017  743  613  586  131  989  185  735]\n"
          ],
          "name": "stdout"
        }
      ]
    },
    {
      "cell_type": "code",
      "metadata": {
        "id": "oSS0JlMY0pWa",
        "colab_type": "code",
        "colab": {
          "base_uri": "https://localhost:8080/",
          "height": 34
        },
        "outputId": "d09f7724-f635-4062-bfb3-08a8a4f9e7e2"
      },
      "source": [
        "# Using Column Name\n",
        "# print 10 values of quantity purchased\n",
        "print(df.quantity_purchased.values[0:10])"
      ],
      "execution_count": 22,
      "outputs": [
        {
          "output_type": "stream",
          "text": [
            "[23 35 19 28 14  9 31 23 14 31]\n"
          ],
          "name": "stdout"
        }
      ]
    },
    {
      "cell_type": "code",
      "metadata": {
        "id": "D0iZYX8e0uIv",
        "colab_type": "code",
        "colab": {
          "base_uri": "https://localhost:8080/",
          "height": 51
        },
        "outputId": "fbb02159-0a5a-4f49-e399-dc353dac3b5e"
      },
      "source": [
        "# Using Datatype\n",
        "# print 10 values of columns with data type float\n",
        "print(df.select_dtypes(include=['float64']).values[:10,0])"
      ],
      "execution_count": 23,
      "outputs": [
        {
          "output_type": "stream",
          "text": [
            "[3269.85 2014.99 5008.5      nan  377.25  978.17  473.23 2394.04 1133.4\n",
            "  114.32]\n"
          ],
          "name": "stdout"
        }
      ]
    },
    {
      "cell_type": "markdown",
      "metadata": {
        "id": "DZD-xzMr02_5",
        "colab_type": "text"
      },
      "source": [
        "**Select rows**"
      ]
    },
    {
      "cell_type": "code",
      "metadata": {
        "id": "Pei-gP9B0wSv",
        "colab_type": "code",
        "colab": {
          "base_uri": "https://localhost:8080/",
          "height": 142
        },
        "outputId": "93d03e8b-7dc7-446b-cabf-aa6814dfae64"
      },
      "source": [
        "# Using Row Index\n",
        "display(df.iloc[[10,501,20]])"
      ],
      "execution_count": 24,
      "outputs": [
        {
          "output_type": "display_data",
          "data": {
            "text/html": [
              "<div>\n",
              "<style scoped>\n",
              "    .dataframe tbody tr th:only-of-type {\n",
              "        vertical-align: middle;\n",
              "    }\n",
              "\n",
              "    .dataframe tbody tr th {\n",
              "        vertical-align: top;\n",
              "    }\n",
              "\n",
              "    .dataframe thead th {\n",
              "        text-align: right;\n",
              "    }\n",
              "</style>\n",
              "<table border=\"1\" class=\"dataframe\">\n",
              "  <thead>\n",
              "    <tr style=\"text-align: right;\">\n",
              "      <th></th>\n",
              "      <th>serial_no</th>\n",
              "      <th>date</th>\n",
              "      <th>user_id</th>\n",
              "      <th>product_id</th>\n",
              "      <th>quantity_purchased</th>\n",
              "      <th>price</th>\n",
              "      <th>user_type</th>\n",
              "    </tr>\n",
              "  </thead>\n",
              "  <tbody>\n",
              "    <tr>\n",
              "      <th>10</th>\n",
              "      <td>-1</td>\n",
              "      <td>2016-01-23</td>\n",
              "      <td>5171</td>\n",
              "      <td>361</td>\n",
              "      <td>6</td>\n",
              "      <td>1745.66</td>\n",
              "      <td>n</td>\n",
              "    </tr>\n",
              "    <tr>\n",
              "      <th>501</th>\n",
              "      <td>1501</td>\n",
              "      <td>2016-01-15</td>\n",
              "      <td>5243</td>\n",
              "      <td>209</td>\n",
              "      <td>7</td>\n",
              "      <td>389.52</td>\n",
              "      <td>a</td>\n",
              "    </tr>\n",
              "    <tr>\n",
              "      <th>20</th>\n",
              "      <td>1020</td>\n",
              "      <td>NaN</td>\n",
              "      <td>5423</td>\n",
              "      <td>695</td>\n",
              "      <td>7</td>\n",
              "      <td>567.83</td>\n",
              "      <td>a</td>\n",
              "    </tr>\n",
              "  </tbody>\n",
              "</table>\n",
              "</div>"
            ],
            "text/plain": [
              "     serial_no        date  user_id  ...  quantity_purchased    price  user_type\n",
              "10          -1  2016-01-23     5171  ...                   6  1745.66          n\n",
              "501       1501  2016-01-15     5243  ...                   7   389.52          a\n",
              "20        1020         NaN     5423  ...                   7   567.83          a\n",
              "\n",
              "[3 rows x 7 columns]"
            ]
          },
          "metadata": {
            "tags": []
          }
        }
      ]
    },
    {
      "cell_type": "code",
      "metadata": {
        "id": "NzvPhJL-1CPy",
        "colab_type": "code",
        "colab": {
          "base_uri": "https://localhost:8080/",
          "height": 204
        },
        "outputId": "cf1fed33-15fb-476a-f743-e4d733cfc60b"
      },
      "source": [
        "# Exclude specific rows\n",
        "display(df.drop([0,24,51], axis=0).head())"
      ],
      "execution_count": 25,
      "outputs": [
        {
          "output_type": "display_data",
          "data": {
            "text/html": [
              "<div>\n",
              "<style scoped>\n",
              "    .dataframe tbody tr th:only-of-type {\n",
              "        vertical-align: middle;\n",
              "    }\n",
              "\n",
              "    .dataframe tbody tr th {\n",
              "        vertical-align: top;\n",
              "    }\n",
              "\n",
              "    .dataframe thead th {\n",
              "        text-align: right;\n",
              "    }\n",
              "</style>\n",
              "<table border=\"1\" class=\"dataframe\">\n",
              "  <thead>\n",
              "    <tr style=\"text-align: right;\">\n",
              "      <th></th>\n",
              "      <th>serial_no</th>\n",
              "      <th>date</th>\n",
              "      <th>user_id</th>\n",
              "      <th>product_id</th>\n",
              "      <th>quantity_purchased</th>\n",
              "      <th>price</th>\n",
              "      <th>user_type</th>\n",
              "    </tr>\n",
              "  </thead>\n",
              "  <tbody>\n",
              "    <tr>\n",
              "      <th>1</th>\n",
              "      <td>1001</td>\n",
              "      <td>NaN</td>\n",
              "      <td>5243</td>\n",
              "      <td>209</td>\n",
              "      <td>35</td>\n",
              "      <td>2014.99</td>\n",
              "      <td>n</td>\n",
              "    </tr>\n",
              "    <tr>\n",
              "      <th>2</th>\n",
              "      <td>1002</td>\n",
              "      <td>2016-01-15</td>\n",
              "      <td>5622</td>\n",
              "      <td>1017</td>\n",
              "      <td>19</td>\n",
              "      <td>5008.50</td>\n",
              "      <td>n</td>\n",
              "    </tr>\n",
              "    <tr>\n",
              "      <th>3</th>\n",
              "      <td>1003</td>\n",
              "      <td>2016-01-29</td>\n",
              "      <td>5089</td>\n",
              "      <td>743</td>\n",
              "      <td>28</td>\n",
              "      <td>NaN</td>\n",
              "      <td>n</td>\n",
              "    </tr>\n",
              "    <tr>\n",
              "      <th>4</th>\n",
              "      <td>1004</td>\n",
              "      <td>NaN</td>\n",
              "      <td>5179</td>\n",
              "      <td>613</td>\n",
              "      <td>14</td>\n",
              "      <td>377.25</td>\n",
              "      <td>n</td>\n",
              "    </tr>\n",
              "    <tr>\n",
              "      <th>5</th>\n",
              "      <td>1005</td>\n",
              "      <td>2016-01-31</td>\n",
              "      <td>5507</td>\n",
              "      <td>586</td>\n",
              "      <td>9</td>\n",
              "      <td>978.17</td>\n",
              "      <td>n</td>\n",
              "    </tr>\n",
              "  </tbody>\n",
              "</table>\n",
              "</div>"
            ],
            "text/plain": [
              "   serial_no        date  user_id  ...  quantity_purchased    price  user_type\n",
              "1       1001         NaN     5243  ...                  35  2014.99          n\n",
              "2       1002  2016-01-15     5622  ...                  19  5008.50          n\n",
              "3       1003  2016-01-29     5089  ...                  28      NaN          n\n",
              "4       1004         NaN     5179  ...                  14   377.25          n\n",
              "5       1005  2016-01-31     5507  ...                   9   978.17          n\n",
              "\n",
              "[5 rows x 7 columns]"
            ]
          },
          "metadata": {
            "tags": []
          }
        }
      ]
    },
    {
      "cell_type": "markdown",
      "metadata": {
        "id": "JWAFQbNo1Fvs",
        "colab_type": "text"
      },
      "source": [
        "**Question**\n",
        "- Show only rows which have quantity purchased greater than 25"
      ]
    },
    {
      "cell_type": "code",
      "metadata": {
        "id": "4klOVLt21LCw",
        "colab_type": "code",
        "colab": {
          "base_uri": "https://localhost:8080/",
          "height": 204
        },
        "outputId": "d4c29048-b773-4977-836c-79141ed93bc5"
      },
      "source": [
        "# Conditional Filtering\n",
        "# Quantity_Purchased greater than 25\n",
        "display(df[df.quantity_purchased > 25].head())"
      ],
      "execution_count": 26,
      "outputs": [
        {
          "output_type": "display_data",
          "data": {
            "text/html": [
              "<div>\n",
              "<style scoped>\n",
              "    .dataframe tbody tr th:only-of-type {\n",
              "        vertical-align: middle;\n",
              "    }\n",
              "\n",
              "    .dataframe tbody tr th {\n",
              "        vertical-align: top;\n",
              "    }\n",
              "\n",
              "    .dataframe thead th {\n",
              "        text-align: right;\n",
              "    }\n",
              "</style>\n",
              "<table border=\"1\" class=\"dataframe\">\n",
              "  <thead>\n",
              "    <tr style=\"text-align: right;\">\n",
              "      <th></th>\n",
              "      <th>serial_no</th>\n",
              "      <th>date</th>\n",
              "      <th>user_id</th>\n",
              "      <th>product_id</th>\n",
              "      <th>quantity_purchased</th>\n",
              "      <th>price</th>\n",
              "      <th>user_type</th>\n",
              "    </tr>\n",
              "  </thead>\n",
              "  <tbody>\n",
              "    <tr>\n",
              "      <th>1</th>\n",
              "      <td>1001</td>\n",
              "      <td>NaN</td>\n",
              "      <td>5243</td>\n",
              "      <td>209</td>\n",
              "      <td>35</td>\n",
              "      <td>2014.99</td>\n",
              "      <td>n</td>\n",
              "    </tr>\n",
              "    <tr>\n",
              "      <th>3</th>\n",
              "      <td>1003</td>\n",
              "      <td>2016-01-29</td>\n",
              "      <td>5089</td>\n",
              "      <td>743</td>\n",
              "      <td>28</td>\n",
              "      <td>NaN</td>\n",
              "      <td>n</td>\n",
              "    </tr>\n",
              "    <tr>\n",
              "      <th>6</th>\n",
              "      <td>1006</td>\n",
              "      <td>NaN</td>\n",
              "      <td>5538</td>\n",
              "      <td>131</td>\n",
              "      <td>31</td>\n",
              "      <td>473.23</td>\n",
              "      <td>n</td>\n",
              "    </tr>\n",
              "    <tr>\n",
              "      <th>9</th>\n",
              "      <td>1009</td>\n",
              "      <td>2016-03-01</td>\n",
              "      <td>5839</td>\n",
              "      <td>735</td>\n",
              "      <td>31</td>\n",
              "      <td>114.32</td>\n",
              "      <td>n</td>\n",
              "    </tr>\n",
              "    <tr>\n",
              "      <th>11</th>\n",
              "      <td>1011</td>\n",
              "      <td>2016-01-23</td>\n",
              "      <td>5772</td>\n",
              "      <td>1017</td>\n",
              "      <td>39</td>\n",
              "      <td>1848.22</td>\n",
              "      <td>n</td>\n",
              "    </tr>\n",
              "  </tbody>\n",
              "</table>\n",
              "</div>"
            ],
            "text/plain": [
              "    serial_no        date  user_id  ...  quantity_purchased    price  user_type\n",
              "1        1001         NaN     5243  ...                  35  2014.99          n\n",
              "3        1003  2016-01-29     5089  ...                  28      NaN          n\n",
              "6        1006         NaN     5538  ...                  31   473.23          n\n",
              "9        1009  2016-03-01     5839  ...                  31   114.32          n\n",
              "11       1011  2016-01-23     5772  ...                  39  1848.22          n\n",
              "\n",
              "[5 rows x 7 columns]"
            ]
          },
          "metadata": {
            "tags": []
          }
        }
      ]
    },
    {
      "cell_type": "code",
      "metadata": {
        "id": "rbbpz3kd1QZt",
        "colab_type": "code",
        "colab": {
          "base_uri": "https://localhost:8080/",
          "height": 204
        },
        "outputId": "a2a2b7a1-697b-42f8-f0bd-4b5f6f14aef7"
      },
      "source": [
        "# Offset from Top\n",
        "display(df[100:].head())"
      ],
      "execution_count": 27,
      "outputs": [
        {
          "output_type": "display_data",
          "data": {
            "text/html": [
              "<div>\n",
              "<style scoped>\n",
              "    .dataframe tbody tr th:only-of-type {\n",
              "        vertical-align: middle;\n",
              "    }\n",
              "\n",
              "    .dataframe tbody tr th {\n",
              "        vertical-align: top;\n",
              "    }\n",
              "\n",
              "    .dataframe thead th {\n",
              "        text-align: right;\n",
              "    }\n",
              "</style>\n",
              "<table border=\"1\" class=\"dataframe\">\n",
              "  <thead>\n",
              "    <tr style=\"text-align: right;\">\n",
              "      <th></th>\n",
              "      <th>serial_no</th>\n",
              "      <th>date</th>\n",
              "      <th>user_id</th>\n",
              "      <th>product_id</th>\n",
              "      <th>quantity_purchased</th>\n",
              "      <th>price</th>\n",
              "      <th>user_type</th>\n",
              "    </tr>\n",
              "  </thead>\n",
              "  <tbody>\n",
              "    <tr>\n",
              "      <th>100</th>\n",
              "      <td>1100</td>\n",
              "      <td>2016-07-02</td>\n",
              "      <td>5553</td>\n",
              "      <td>748</td>\n",
              "      <td>6</td>\n",
              "      <td>1988.92</td>\n",
              "      <td>d</td>\n",
              "    </tr>\n",
              "    <tr>\n",
              "      <th>101</th>\n",
              "      <td>1101</td>\n",
              "      <td>2016-05-02</td>\n",
              "      <td>5243</td>\n",
              "      <td>209</td>\n",
              "      <td>2</td>\n",
              "      <td>1078.91</td>\n",
              "      <td>b</td>\n",
              "    </tr>\n",
              "    <tr>\n",
              "      <th>102</th>\n",
              "      <td>1102</td>\n",
              "      <td>2016-01-20</td>\n",
              "      <td>5622</td>\n",
              "      <td>1017</td>\n",
              "      <td>1</td>\n",
              "      <td>2276.24</td>\n",
              "      <td>d</td>\n",
              "    </tr>\n",
              "    <tr>\n",
              "      <th>103</th>\n",
              "      <td>1103</td>\n",
              "      <td>2016-06-01</td>\n",
              "      <td>5089</td>\n",
              "      <td>743</td>\n",
              "      <td>13</td>\n",
              "      <td>3876.40</td>\n",
              "      <td>c</td>\n",
              "    </tr>\n",
              "    <tr>\n",
              "      <th>104</th>\n",
              "      <td>1104</td>\n",
              "      <td>2016-01-02</td>\n",
              "      <td>5179</td>\n",
              "      <td>613</td>\n",
              "      <td>39</td>\n",
              "      <td>1830.42</td>\n",
              "      <td>d</td>\n",
              "    </tr>\n",
              "  </tbody>\n",
              "</table>\n",
              "</div>"
            ],
            "text/plain": [
              "     serial_no        date  user_id  ...  quantity_purchased    price  user_type\n",
              "100       1100  2016-07-02     5553  ...                   6  1988.92          d\n",
              "101       1101  2016-05-02     5243  ...                   2  1078.91          b\n",
              "102       1102  2016-01-20     5622  ...                   1  2276.24          d\n",
              "103       1103  2016-06-01     5089  ...                  13  3876.40          c\n",
              "104       1104  2016-01-02     5179  ...                  39  1830.42          d\n",
              "\n",
              "[5 rows x 7 columns]"
            ]
          },
          "metadata": {
            "tags": []
          }
        }
      ]
    },
    {
      "cell_type": "code",
      "metadata": {
        "id": "VZiBrBa71V-G",
        "colab_type": "code",
        "colab": {
          "base_uri": "https://localhost:8080/",
          "height": 204
        },
        "outputId": "707f4255-c1ce-41eb-ded2-441350c9b2d0"
      },
      "source": [
        "# Offset from Bottom\n",
        "display(df[-10:].head())"
      ],
      "execution_count": 28,
      "outputs": [
        {
          "output_type": "display_data",
          "data": {
            "text/html": [
              "<div>\n",
              "<style scoped>\n",
              "    .dataframe tbody tr th:only-of-type {\n",
              "        vertical-align: middle;\n",
              "    }\n",
              "\n",
              "    .dataframe tbody tr th {\n",
              "        vertical-align: top;\n",
              "    }\n",
              "\n",
              "    .dataframe thead th {\n",
              "        text-align: right;\n",
              "    }\n",
              "</style>\n",
              "<table border=\"1\" class=\"dataframe\">\n",
              "  <thead>\n",
              "    <tr style=\"text-align: right;\">\n",
              "      <th></th>\n",
              "      <th>serial_no</th>\n",
              "      <th>date</th>\n",
              "      <th>user_id</th>\n",
              "      <th>product_id</th>\n",
              "      <th>quantity_purchased</th>\n",
              "      <th>price</th>\n",
              "      <th>user_type</th>\n",
              "    </tr>\n",
              "  </thead>\n",
              "  <tbody>\n",
              "    <tr>\n",
              "      <th>990</th>\n",
              "      <td>-1</td>\n",
              "      <td>2016-01-17</td>\n",
              "      <td>5372</td>\n",
              "      <td>951</td>\n",
              "      <td>18</td>\n",
              "      <td>1353.36</td>\n",
              "      <td>d</td>\n",
              "    </tr>\n",
              "    <tr>\n",
              "      <th>991</th>\n",
              "      <td>1991</td>\n",
              "      <td>2016-01-14</td>\n",
              "      <td>5279</td>\n",
              "      <td>858</td>\n",
              "      <td>3</td>\n",
              "      <td>1715.95</td>\n",
              "      <td>b</td>\n",
              "    </tr>\n",
              "    <tr>\n",
              "      <th>992</th>\n",
              "      <td>1992</td>\n",
              "      <td>2016-01-24</td>\n",
              "      <td>5008</td>\n",
              "      <td>539</td>\n",
              "      <td>39</td>\n",
              "      <td>1403.04</td>\n",
              "      <td>d</td>\n",
              "    </tr>\n",
              "    <tr>\n",
              "      <th>993</th>\n",
              "      <td>1993</td>\n",
              "      <td>2016-02-02</td>\n",
              "      <td>5010</td>\n",
              "      <td>909</td>\n",
              "      <td>34</td>\n",
              "      <td>3116.13</td>\n",
              "      <td>b</td>\n",
              "    </tr>\n",
              "    <tr>\n",
              "      <th>994</th>\n",
              "      <td>1994</td>\n",
              "      <td>2016-07-02</td>\n",
              "      <td>5795</td>\n",
              "      <td>286</td>\n",
              "      <td>40</td>\n",
              "      <td>2052.13</td>\n",
              "      <td>b</td>\n",
              "    </tr>\n",
              "  </tbody>\n",
              "</table>\n",
              "</div>"
            ],
            "text/plain": [
              "     serial_no        date  user_id  ...  quantity_purchased    price  user_type\n",
              "990         -1  2016-01-17     5372  ...                  18  1353.36          d\n",
              "991       1991  2016-01-14     5279  ...                   3  1715.95          b\n",
              "992       1992  2016-01-24     5008  ...                  39  1403.04          d\n",
              "993       1993  2016-02-02     5010  ...                  34  3116.13          b\n",
              "994       1994  2016-07-02     5795  ...                  40  2052.13          b\n",
              "\n",
              "[5 rows x 7 columns]"
            ]
          },
          "metadata": {
            "tags": []
          }
        }
      ]
    },
    {
      "cell_type": "markdown",
      "metadata": {
        "id": "ncv8KC7O1bBX",
        "colab_type": "text"
      },
      "source": [
        "**Type Casting**"
      ]
    },
    {
      "cell_type": "code",
      "metadata": {
        "id": "y9mYVZwm1dy_",
        "colab_type": "code",
        "colab": {
          "base_uri": "https://localhost:8080/",
          "height": 153
        },
        "outputId": "3e69a8eb-8db8-4b7d-ca49-ff413d0797ac"
      },
      "source": [
        "# Existing Datatypes\n",
        "df.dtypes"
      ],
      "execution_count": 29,
      "outputs": [
        {
          "output_type": "execute_result",
          "data": {
            "text/plain": [
              "serial_no               int64\n",
              "date                   object\n",
              "user_id                 int64\n",
              "product_id              int64\n",
              "quantity_purchased      int64\n",
              "price                 float64\n",
              "user_type              object\n",
              "dtype: object"
            ]
          },
          "metadata": {
            "tags": []
          },
          "execution_count": 29
        }
      ]
    },
    {
      "cell_type": "code",
      "metadata": {
        "id": "iigZP4RJ1lrx",
        "colab_type": "code",
        "colab": {
          "base_uri": "https://localhost:8080/",
          "height": 153
        },
        "outputId": "b6c0da2c-882a-4e90-cd9b-5a2fd085705c"
      },
      "source": [
        "# Set Datatime as dtype for date column\n",
        "df['date'] = pd.to_datetime(df.date)\n",
        "print(df.dtypes)"
      ],
      "execution_count": 30,
      "outputs": [
        {
          "output_type": "stream",
          "text": [
            "serial_no                      int64\n",
            "date                  datetime64[ns]\n",
            "user_id                        int64\n",
            "product_id                     int64\n",
            "quantity_purchased             int64\n",
            "price                        float64\n",
            "user_type                     object\n",
            "dtype: object\n"
          ],
          "name": "stdout"
        }
      ]
    },
    {
      "cell_type": "markdown",
      "metadata": {
        "id": "Kdqvl51m1qIW",
        "colab_type": "text"
      },
      "source": [
        "**Map/Apply Functionality**\n",
        "\n",
        "**Question**\n",
        "- Write a utility method to create a new column user_class from user_type using the following mapping:\n",
        "- user_type a and b map to user_class new\n",
        "- user_type c maps to user_class existing\n",
        "- user_type d maps to user_class loyal_existing\n",
        "- map all other user_type values as error"
      ]
    },
    {
      "cell_type": "code",
      "metadata": {
        "id": "6-t-r44s12YE",
        "colab_type": "code",
        "colab": {}
      },
      "source": [
        "def expand_user_type(u_type):\n",
        "    \"\"\"This function maps user types to user classes\n",
        "    Args:\n",
        "        u_type (str): user type value\n",
        "    Returns:\n",
        "        (str) user_class value\n",
        "\n",
        "    \"\"\"\n",
        "    if u_type in ['a','b']:\n",
        "        return 'new'\n",
        "    elif u_type == 'c':\n",
        "        return 'existing'\n",
        "    elif u_type == 'd':\n",
        "        return 'loyal_existing'\n",
        "    else:\n",
        "        return 'error'"
      ],
      "execution_count": 0,
      "outputs": []
    },
    {
      "cell_type": "code",
      "metadata": {
        "id": "l3bTgEhy17TW",
        "colab_type": "code",
        "colab": {
          "base_uri": "https://localhost:8080/",
          "height": 204
        },
        "outputId": "44157914-e8f4-467c-c47d-3fad6201d28f"
      },
      "source": [
        "# Map User Type to User Class\n",
        "df['user_class'] = df['user_type'].map(expand_user_type)\n",
        "display(df.tail())"
      ],
      "execution_count": 32,
      "outputs": [
        {
          "output_type": "display_data",
          "data": {
            "text/html": [
              "<div>\n",
              "<style scoped>\n",
              "    .dataframe tbody tr th:only-of-type {\n",
              "        vertical-align: middle;\n",
              "    }\n",
              "\n",
              "    .dataframe tbody tr th {\n",
              "        vertical-align: top;\n",
              "    }\n",
              "\n",
              "    .dataframe thead th {\n",
              "        text-align: right;\n",
              "    }\n",
              "</style>\n",
              "<table border=\"1\" class=\"dataframe\">\n",
              "  <thead>\n",
              "    <tr style=\"text-align: right;\">\n",
              "      <th></th>\n",
              "      <th>serial_no</th>\n",
              "      <th>date</th>\n",
              "      <th>user_id</th>\n",
              "      <th>product_id</th>\n",
              "      <th>quantity_purchased</th>\n",
              "      <th>price</th>\n",
              "      <th>user_type</th>\n",
              "      <th>user_class</th>\n",
              "    </tr>\n",
              "  </thead>\n",
              "  <tbody>\n",
              "    <tr>\n",
              "      <th>995</th>\n",
              "      <td>1995</td>\n",
              "      <td>2016-01-24</td>\n",
              "      <td>5372</td>\n",
              "      <td>126</td>\n",
              "      <td>4</td>\n",
              "      <td>3327.28</td>\n",
              "      <td>a</td>\n",
              "      <td>new</td>\n",
              "    </tr>\n",
              "    <tr>\n",
              "      <th>996</th>\n",
              "      <td>1996</td>\n",
              "      <td>2016-01-19</td>\n",
              "      <td>5217</td>\n",
              "      <td>491</td>\n",
              "      <td>16</td>\n",
              "      <td>2438.89</td>\n",
              "      <td>d</td>\n",
              "      <td>loyal_existing</td>\n",
              "    </tr>\n",
              "    <tr>\n",
              "      <th>997</th>\n",
              "      <td>1997</td>\n",
              "      <td>2016-11-01</td>\n",
              "      <td>5565</td>\n",
              "      <td>583</td>\n",
              "      <td>21</td>\n",
              "      <td>310.05</td>\n",
              "      <td>a</td>\n",
              "      <td>new</td>\n",
              "    </tr>\n",
              "    <tr>\n",
              "      <th>998</th>\n",
              "      <td>1998</td>\n",
              "      <td>2016-01-13</td>\n",
              "      <td>5721</td>\n",
              "      <td>844</td>\n",
              "      <td>34</td>\n",
              "      <td>991.62</td>\n",
              "      <td>d</td>\n",
              "      <td>loyal_existing</td>\n",
              "    </tr>\n",
              "    <tr>\n",
              "      <th>999</th>\n",
              "      <td>1999</td>\n",
              "      <td>2016-07-02</td>\n",
              "      <td>5224</td>\n",
              "      <td>859</td>\n",
              "      <td>28</td>\n",
              "      <td>3156.08</td>\n",
              "      <td>a</td>\n",
              "      <td>new</td>\n",
              "    </tr>\n",
              "  </tbody>\n",
              "</table>\n",
              "</div>"
            ],
            "text/plain": [
              "     serial_no       date  user_id  ...    price  user_type      user_class\n",
              "995       1995 2016-01-24     5372  ...  3327.28          a             new\n",
              "996       1996 2016-01-19     5217  ...  2438.89          d  loyal_existing\n",
              "997       1997 2016-11-01     5565  ...   310.05          a             new\n",
              "998       1998 2016-01-13     5721  ...   991.62          d  loyal_existing\n",
              "999       1999 2016-07-02     5224  ...  3156.08          a             new\n",
              "\n",
              "[5 rows x 8 columns]"
            ]
          },
          "metadata": {
            "tags": []
          }
        }
      ]
    },
    {
      "cell_type": "markdown",
      "metadata": {
        "id": "YlRG-B_w2Dy0",
        "colab_type": "text"
      },
      "source": [
        "Question\n",
        "- Get range for each numeric attribute, i.e. max-min"
      ]
    },
    {
      "cell_type": "code",
      "metadata": {
        "id": "JuxF9YFp2FqY",
        "colab_type": "code",
        "colab": {
          "base_uri": "https://localhost:8080/",
          "height": 119
        },
        "outputId": "792d4cb8-61f1-4f8b-e21d-9162d2c937ca"
      },
      "source": [
        "display(df.select_dtypes(include=[np.number]).apply(lambda x: \n",
        "                                                        x.max()- x.min()))"
      ],
      "execution_count": 33,
      "outputs": [
        {
          "output_type": "display_data",
          "data": {
            "text/plain": [
              "serial_no             2000.00\n",
              "user_id               6093.00\n",
              "product_id            1093.00\n",
              "quantity_purchased      40.00\n",
              "price                 8428.32\n",
              "dtype: float64"
            ]
          },
          "metadata": {
            "tags": []
          }
        }
      ]
    },
    {
      "cell_type": "code",
      "metadata": {
        "id": "WLOZvyU62NZG",
        "colab_type": "code",
        "colab": {}
      },
      "source": [
        "# Apply-Map: Extract Week from Date\n",
        "df['purchase_week'] = df[['date']].applymap(lambda dt:dt.week \n",
        "                                                if not pd.isnull(dt.week) \n",
        "                                                else 0)"
      ],
      "execution_count": 0,
      "outputs": []
    },
    {
      "cell_type": "code",
      "metadata": {
        "id": "lTcPpaRl2RFU",
        "colab_type": "code",
        "colab": {
          "base_uri": "https://localhost:8080/",
          "height": 204
        },
        "outputId": "5788545d-641c-4d3d-eae0-b4c4dae78405"
      },
      "source": [
        "display(df.head())"
      ],
      "execution_count": 35,
      "outputs": [
        {
          "output_type": "display_data",
          "data": {
            "text/html": [
              "<div>\n",
              "<style scoped>\n",
              "    .dataframe tbody tr th:only-of-type {\n",
              "        vertical-align: middle;\n",
              "    }\n",
              "\n",
              "    .dataframe tbody tr th {\n",
              "        vertical-align: top;\n",
              "    }\n",
              "\n",
              "    .dataframe thead th {\n",
              "        text-align: right;\n",
              "    }\n",
              "</style>\n",
              "<table border=\"1\" class=\"dataframe\">\n",
              "  <thead>\n",
              "    <tr style=\"text-align: right;\">\n",
              "      <th></th>\n",
              "      <th>serial_no</th>\n",
              "      <th>date</th>\n",
              "      <th>user_id</th>\n",
              "      <th>product_id</th>\n",
              "      <th>quantity_purchased</th>\n",
              "      <th>price</th>\n",
              "      <th>user_type</th>\n",
              "      <th>user_class</th>\n",
              "      <th>purchase_week</th>\n",
              "    </tr>\n",
              "  </thead>\n",
              "  <tbody>\n",
              "    <tr>\n",
              "      <th>0</th>\n",
              "      <td>1000</td>\n",
              "      <td>NaT</td>\n",
              "      <td>-101</td>\n",
              "      <td>0</td>\n",
              "      <td>23</td>\n",
              "      <td>3269.85</td>\n",
              "      <td>n</td>\n",
              "      <td>error</td>\n",
              "      <td>0</td>\n",
              "    </tr>\n",
              "    <tr>\n",
              "      <th>1</th>\n",
              "      <td>1001</td>\n",
              "      <td>NaT</td>\n",
              "      <td>5243</td>\n",
              "      <td>209</td>\n",
              "      <td>35</td>\n",
              "      <td>2014.99</td>\n",
              "      <td>n</td>\n",
              "      <td>error</td>\n",
              "      <td>0</td>\n",
              "    </tr>\n",
              "    <tr>\n",
              "      <th>2</th>\n",
              "      <td>1002</td>\n",
              "      <td>2016-01-15</td>\n",
              "      <td>5622</td>\n",
              "      <td>1017</td>\n",
              "      <td>19</td>\n",
              "      <td>5008.50</td>\n",
              "      <td>n</td>\n",
              "      <td>error</td>\n",
              "      <td>2</td>\n",
              "    </tr>\n",
              "    <tr>\n",
              "      <th>3</th>\n",
              "      <td>1003</td>\n",
              "      <td>2016-01-29</td>\n",
              "      <td>5089</td>\n",
              "      <td>743</td>\n",
              "      <td>28</td>\n",
              "      <td>NaN</td>\n",
              "      <td>n</td>\n",
              "      <td>error</td>\n",
              "      <td>4</td>\n",
              "    </tr>\n",
              "    <tr>\n",
              "      <th>4</th>\n",
              "      <td>1004</td>\n",
              "      <td>NaT</td>\n",
              "      <td>5179</td>\n",
              "      <td>613</td>\n",
              "      <td>14</td>\n",
              "      <td>377.25</td>\n",
              "      <td>n</td>\n",
              "      <td>error</td>\n",
              "      <td>0</td>\n",
              "    </tr>\n",
              "  </tbody>\n",
              "</table>\n",
              "</div>"
            ],
            "text/plain": [
              "   serial_no       date  user_id  ...  user_type  user_class  purchase_week\n",
              "0       1000        NaT     -101  ...          n       error              0\n",
              "1       1001        NaT     5243  ...          n       error              0\n",
              "2       1002 2016-01-15     5622  ...          n       error              2\n",
              "3       1003 2016-01-29     5089  ...          n       error              4\n",
              "4       1004        NaT     5179  ...          n       error              0\n",
              "\n",
              "[5 rows x 9 columns]"
            ]
          },
          "metadata": {
            "tags": []
          }
        }
      ]
    },
    {
      "cell_type": "markdown",
      "metadata": {
        "id": "gYm--P9a2a3e",
        "colab_type": "text"
      },
      "source": [
        "### Handling missing values"
      ]
    },
    {
      "cell_type": "code",
      "metadata": {
        "id": "IIFhJax92dw3",
        "colab_type": "code",
        "colab": {
          "base_uri": "https://localhost:8080/",
          "height": 204
        },
        "outputId": "2bd08a83-c269-4471-b1f4-40c8dc331b19"
      },
      "source": [
        "# Drop Rows with Missing Dates\n",
        "df_dropped = df.dropna(subset=['date'])\n",
        "display(df_dropped.head())"
      ],
      "execution_count": 36,
      "outputs": [
        {
          "output_type": "display_data",
          "data": {
            "text/html": [
              "<div>\n",
              "<style scoped>\n",
              "    .dataframe tbody tr th:only-of-type {\n",
              "        vertical-align: middle;\n",
              "    }\n",
              "\n",
              "    .dataframe tbody tr th {\n",
              "        vertical-align: top;\n",
              "    }\n",
              "\n",
              "    .dataframe thead th {\n",
              "        text-align: right;\n",
              "    }\n",
              "</style>\n",
              "<table border=\"1\" class=\"dataframe\">\n",
              "  <thead>\n",
              "    <tr style=\"text-align: right;\">\n",
              "      <th></th>\n",
              "      <th>serial_no</th>\n",
              "      <th>date</th>\n",
              "      <th>user_id</th>\n",
              "      <th>product_id</th>\n",
              "      <th>quantity_purchased</th>\n",
              "      <th>price</th>\n",
              "      <th>user_type</th>\n",
              "      <th>user_class</th>\n",
              "      <th>purchase_week</th>\n",
              "    </tr>\n",
              "  </thead>\n",
              "  <tbody>\n",
              "    <tr>\n",
              "      <th>2</th>\n",
              "      <td>1002</td>\n",
              "      <td>2016-01-15</td>\n",
              "      <td>5622</td>\n",
              "      <td>1017</td>\n",
              "      <td>19</td>\n",
              "      <td>5008.50</td>\n",
              "      <td>n</td>\n",
              "      <td>error</td>\n",
              "      <td>2</td>\n",
              "    </tr>\n",
              "    <tr>\n",
              "      <th>3</th>\n",
              "      <td>1003</td>\n",
              "      <td>2016-01-29</td>\n",
              "      <td>5089</td>\n",
              "      <td>743</td>\n",
              "      <td>28</td>\n",
              "      <td>NaN</td>\n",
              "      <td>n</td>\n",
              "      <td>error</td>\n",
              "      <td>4</td>\n",
              "    </tr>\n",
              "    <tr>\n",
              "      <th>5</th>\n",
              "      <td>1005</td>\n",
              "      <td>2016-01-31</td>\n",
              "      <td>5507</td>\n",
              "      <td>586</td>\n",
              "      <td>9</td>\n",
              "      <td>978.17</td>\n",
              "      <td>n</td>\n",
              "      <td>error</td>\n",
              "      <td>4</td>\n",
              "    </tr>\n",
              "    <tr>\n",
              "      <th>7</th>\n",
              "      <td>1007</td>\n",
              "      <td>2016-01-31</td>\n",
              "      <td>5992</td>\n",
              "      <td>989</td>\n",
              "      <td>23</td>\n",
              "      <td>2394.04</td>\n",
              "      <td>n</td>\n",
              "      <td>error</td>\n",
              "      <td>4</td>\n",
              "    </tr>\n",
              "    <tr>\n",
              "      <th>9</th>\n",
              "      <td>1009</td>\n",
              "      <td>2016-03-01</td>\n",
              "      <td>5839</td>\n",
              "      <td>735</td>\n",
              "      <td>31</td>\n",
              "      <td>114.32</td>\n",
              "      <td>n</td>\n",
              "      <td>error</td>\n",
              "      <td>9</td>\n",
              "    </tr>\n",
              "  </tbody>\n",
              "</table>\n",
              "</div>"
            ],
            "text/plain": [
              "   serial_no       date  user_id  ...  user_type  user_class  purchase_week\n",
              "2       1002 2016-01-15     5622  ...          n       error              2\n",
              "3       1003 2016-01-29     5089  ...          n       error              4\n",
              "5       1005 2016-01-31     5507  ...          n       error              4\n",
              "7       1007 2016-01-31     5992  ...          n       error              4\n",
              "9       1009 2016-03-01     5839  ...          n       error              9\n",
              "\n",
              "[5 rows x 9 columns]"
            ]
          },
          "metadata": {
            "tags": []
          }
        }
      ]
    },
    {
      "cell_type": "code",
      "metadata": {
        "id": "BHBS48292mT0",
        "colab_type": "code",
        "colab": {}
      },
      "source": [
        "# Filling missing price with mean price\n",
        "df_dropped['price'].fillna(value=np.round(df.price.mean(),decimals=2),\n",
        "                                inplace=True)"
      ],
      "execution_count": 0,
      "outputs": []
    },
    {
      "cell_type": "code",
      "metadata": {
        "id": "2dYIJcnb2p2Y",
        "colab_type": "code",
        "colab": {}
      },
      "source": [
        "# Fill missing user types using values from previous row\n",
        "df_dropped['user_type'].fillna(method='ffill',inplace=True)"
      ],
      "execution_count": 0,
      "outputs": []
    },
    {
      "cell_type": "markdown",
      "metadata": {
        "id": "4V3oij6q2s9Y",
        "colab_type": "text"
      },
      "source": [
        "### Handle Duplicates\n",
        "Question\n",
        "- Identify duplicates only for column serial_no"
      ]
    },
    {
      "cell_type": "code",
      "metadata": {
        "id": "ub1o6yPv2vsh",
        "colab_type": "code",
        "colab": {
          "base_uri": "https://localhost:8080/",
          "height": 221
        },
        "outputId": "301b10f9-1130-4b96-cd4b-0f709c3f812d"
      },
      "source": [
        "# sample duplicates. Identify for serial_no\n",
        "display(df_dropped[df_dropped.duplicated(subset=['serial_no'])].head())\n",
        "print(\"Shape of df={}\".format(df_dropped.shape))"
      ],
      "execution_count": 39,
      "outputs": [
        {
          "output_type": "display_data",
          "data": {
            "text/html": [
              "<div>\n",
              "<style scoped>\n",
              "    .dataframe tbody tr th:only-of-type {\n",
              "        vertical-align: middle;\n",
              "    }\n",
              "\n",
              "    .dataframe tbody tr th {\n",
              "        vertical-align: top;\n",
              "    }\n",
              "\n",
              "    .dataframe thead th {\n",
              "        text-align: right;\n",
              "    }\n",
              "</style>\n",
              "<table border=\"1\" class=\"dataframe\">\n",
              "  <thead>\n",
              "    <tr style=\"text-align: right;\">\n",
              "      <th></th>\n",
              "      <th>serial_no</th>\n",
              "      <th>date</th>\n",
              "      <th>user_id</th>\n",
              "      <th>product_id</th>\n",
              "      <th>quantity_purchased</th>\n",
              "      <th>price</th>\n",
              "      <th>user_type</th>\n",
              "      <th>user_class</th>\n",
              "      <th>purchase_week</th>\n",
              "    </tr>\n",
              "  </thead>\n",
              "  <tbody>\n",
              "    <tr>\n",
              "      <th>23</th>\n",
              "      <td>-1</td>\n",
              "      <td>2016-01-02</td>\n",
              "      <td>5464</td>\n",
              "      <td>822</td>\n",
              "      <td>33</td>\n",
              "      <td>3273.87</td>\n",
              "      <td>n</td>\n",
              "      <td>error</td>\n",
              "      <td>53</td>\n",
              "    </tr>\n",
              "    <tr>\n",
              "      <th>53</th>\n",
              "      <td>-1</td>\n",
              "      <td>2016-01-27</td>\n",
              "      <td>5417</td>\n",
              "      <td>393</td>\n",
              "      <td>30</td>\n",
              "      <td>4024.55</td>\n",
              "      <td>b</td>\n",
              "      <td>new</td>\n",
              "      <td>4</td>\n",
              "    </tr>\n",
              "    <tr>\n",
              "      <th>115</th>\n",
              "      <td>-1</td>\n",
              "      <td>2016-01-27</td>\n",
              "      <td>5501</td>\n",
              "      <td>628</td>\n",
              "      <td>25</td>\n",
              "      <td>2860.28</td>\n",
              "      <td>d</td>\n",
              "      <td>loyal_existing</td>\n",
              "      <td>4</td>\n",
              "    </tr>\n",
              "    <tr>\n",
              "      <th>145</th>\n",
              "      <td>-1</td>\n",
              "      <td>2016-06-01</td>\n",
              "      <td>5418</td>\n",
              "      <td>437</td>\n",
              "      <td>4</td>\n",
              "      <td>3137.01</td>\n",
              "      <td>b</td>\n",
              "      <td>new</td>\n",
              "      <td>22</td>\n",
              "    </tr>\n",
              "    <tr>\n",
              "      <th>239</th>\n",
              "      <td>-1</td>\n",
              "      <td>2016-01-02</td>\n",
              "      <td>5017</td>\n",
              "      <td>390</td>\n",
              "      <td>10</td>\n",
              "      <td>594.48</td>\n",
              "      <td>d</td>\n",
              "      <td>loyal_existing</td>\n",
              "      <td>53</td>\n",
              "    </tr>\n",
              "  </tbody>\n",
              "</table>\n",
              "</div>"
            ],
            "text/plain": [
              "     serial_no       date  user_id  ...  user_type      user_class  purchase_week\n",
              "23          -1 2016-01-02     5464  ...          n           error             53\n",
              "53          -1 2016-01-27     5417  ...          b             new              4\n",
              "115         -1 2016-01-27     5501  ...          d  loyal_existing              4\n",
              "145         -1 2016-06-01     5418  ...          b             new             22\n",
              "239         -1 2016-01-02     5017  ...          d  loyal_existing             53\n",
              "\n",
              "[5 rows x 9 columns]"
            ]
          },
          "metadata": {
            "tags": []
          }
        },
        {
          "output_type": "stream",
          "text": [
            "Shape of df=(969, 9)\n"
          ],
          "name": "stdout"
        }
      ]
    },
    {
      "cell_type": "code",
      "metadata": {
        "id": "XVlhwApZ22m8",
        "colab_type": "code",
        "colab": {
          "base_uri": "https://localhost:8080/",
          "height": 221
        },
        "outputId": "b5600361-3e0f-4fc8-d208-fbb57e897da0"
      },
      "source": [
        " ##Drop Duplicates\n",
        "df_dropped.drop_duplicates(subset=['serial_no'],inplace=True)\n",
        "display(df_dropped.head())\n",
        "print(\"Shape of df={}\".format(df_dropped.shape))"
      ],
      "execution_count": 40,
      "outputs": [
        {
          "output_type": "display_data",
          "data": {
            "text/html": [
              "<div>\n",
              "<style scoped>\n",
              "    .dataframe tbody tr th:only-of-type {\n",
              "        vertical-align: middle;\n",
              "    }\n",
              "\n",
              "    .dataframe tbody tr th {\n",
              "        vertical-align: top;\n",
              "    }\n",
              "\n",
              "    .dataframe thead th {\n",
              "        text-align: right;\n",
              "    }\n",
              "</style>\n",
              "<table border=\"1\" class=\"dataframe\">\n",
              "  <thead>\n",
              "    <tr style=\"text-align: right;\">\n",
              "      <th></th>\n",
              "      <th>serial_no</th>\n",
              "      <th>date</th>\n",
              "      <th>user_id</th>\n",
              "      <th>product_id</th>\n",
              "      <th>quantity_purchased</th>\n",
              "      <th>price</th>\n",
              "      <th>user_type</th>\n",
              "      <th>user_class</th>\n",
              "      <th>purchase_week</th>\n",
              "    </tr>\n",
              "  </thead>\n",
              "  <tbody>\n",
              "    <tr>\n",
              "      <th>2</th>\n",
              "      <td>1002</td>\n",
              "      <td>2016-01-15</td>\n",
              "      <td>5622</td>\n",
              "      <td>1017</td>\n",
              "      <td>19</td>\n",
              "      <td>5008.50</td>\n",
              "      <td>n</td>\n",
              "      <td>error</td>\n",
              "      <td>2</td>\n",
              "    </tr>\n",
              "    <tr>\n",
              "      <th>3</th>\n",
              "      <td>1003</td>\n",
              "      <td>2016-01-29</td>\n",
              "      <td>5089</td>\n",
              "      <td>743</td>\n",
              "      <td>28</td>\n",
              "      <td>2304.63</td>\n",
              "      <td>n</td>\n",
              "      <td>error</td>\n",
              "      <td>4</td>\n",
              "    </tr>\n",
              "    <tr>\n",
              "      <th>5</th>\n",
              "      <td>1005</td>\n",
              "      <td>2016-01-31</td>\n",
              "      <td>5507</td>\n",
              "      <td>586</td>\n",
              "      <td>9</td>\n",
              "      <td>978.17</td>\n",
              "      <td>n</td>\n",
              "      <td>error</td>\n",
              "      <td>4</td>\n",
              "    </tr>\n",
              "    <tr>\n",
              "      <th>7</th>\n",
              "      <td>1007</td>\n",
              "      <td>2016-01-31</td>\n",
              "      <td>5992</td>\n",
              "      <td>989</td>\n",
              "      <td>23</td>\n",
              "      <td>2394.04</td>\n",
              "      <td>n</td>\n",
              "      <td>error</td>\n",
              "      <td>4</td>\n",
              "    </tr>\n",
              "    <tr>\n",
              "      <th>9</th>\n",
              "      <td>1009</td>\n",
              "      <td>2016-03-01</td>\n",
              "      <td>5839</td>\n",
              "      <td>735</td>\n",
              "      <td>31</td>\n",
              "      <td>114.32</td>\n",
              "      <td>n</td>\n",
              "      <td>error</td>\n",
              "      <td>9</td>\n",
              "    </tr>\n",
              "  </tbody>\n",
              "</table>\n",
              "</div>"
            ],
            "text/plain": [
              "   serial_no       date  user_id  ...  user_type  user_class  purchase_week\n",
              "2       1002 2016-01-15     5622  ...          n       error              2\n",
              "3       1003 2016-01-29     5089  ...          n       error              4\n",
              "5       1005 2016-01-31     5507  ...          n       error              4\n",
              "7       1007 2016-01-31     5992  ...          n       error              4\n",
              "9       1009 2016-03-01     5839  ...          n       error              9\n",
              "\n",
              "[5 rows x 9 columns]"
            ]
          },
          "metadata": {
            "tags": []
          }
        },
        {
          "output_type": "stream",
          "text": [
            "Shape of df=(940, 9)\n"
          ],
          "name": "stdout"
        }
      ]
    },
    {
      "cell_type": "markdown",
      "metadata": {
        "id": "87Hne-o728g3",
        "colab_type": "text"
      },
      "source": [
        "**Question**\n",
        "- Remove rows which have less than 3 attributes with non-missing data\n",
        "- Print the shape of dataframe thus prepared"
      ]
    },
    {
      "cell_type": "code",
      "metadata": {
        "id": "Xj5yiLdA3B82",
        "colab_type": "code",
        "colab": {
          "base_uri": "https://localhost:8080/",
          "height": 221
        },
        "outputId": "bab19282-ef97-403c-eef8-d3d595344c28"
      },
      "source": [
        "# Remove rows which have less than 3 attributes with non-missing data\n",
        "display(df.dropna(thresh=3).head())\n",
        "print(\"Shape of df={}\".format(df.dropna(thresh=3).shape))"
      ],
      "execution_count": 41,
      "outputs": [
        {
          "output_type": "display_data",
          "data": {
            "text/html": [
              "<div>\n",
              "<style scoped>\n",
              "    .dataframe tbody tr th:only-of-type {\n",
              "        vertical-align: middle;\n",
              "    }\n",
              "\n",
              "    .dataframe tbody tr th {\n",
              "        vertical-align: top;\n",
              "    }\n",
              "\n",
              "    .dataframe thead th {\n",
              "        text-align: right;\n",
              "    }\n",
              "</style>\n",
              "<table border=\"1\" class=\"dataframe\">\n",
              "  <thead>\n",
              "    <tr style=\"text-align: right;\">\n",
              "      <th></th>\n",
              "      <th>serial_no</th>\n",
              "      <th>date</th>\n",
              "      <th>user_id</th>\n",
              "      <th>product_id</th>\n",
              "      <th>quantity_purchased</th>\n",
              "      <th>price</th>\n",
              "      <th>user_type</th>\n",
              "      <th>user_class</th>\n",
              "      <th>purchase_week</th>\n",
              "    </tr>\n",
              "  </thead>\n",
              "  <tbody>\n",
              "    <tr>\n",
              "      <th>0</th>\n",
              "      <td>1000</td>\n",
              "      <td>NaT</td>\n",
              "      <td>-101</td>\n",
              "      <td>0</td>\n",
              "      <td>23</td>\n",
              "      <td>3269.85</td>\n",
              "      <td>n</td>\n",
              "      <td>error</td>\n",
              "      <td>0</td>\n",
              "    </tr>\n",
              "    <tr>\n",
              "      <th>1</th>\n",
              "      <td>1001</td>\n",
              "      <td>NaT</td>\n",
              "      <td>5243</td>\n",
              "      <td>209</td>\n",
              "      <td>35</td>\n",
              "      <td>2014.99</td>\n",
              "      <td>n</td>\n",
              "      <td>error</td>\n",
              "      <td>0</td>\n",
              "    </tr>\n",
              "    <tr>\n",
              "      <th>2</th>\n",
              "      <td>1002</td>\n",
              "      <td>2016-01-15</td>\n",
              "      <td>5622</td>\n",
              "      <td>1017</td>\n",
              "      <td>19</td>\n",
              "      <td>5008.50</td>\n",
              "      <td>n</td>\n",
              "      <td>error</td>\n",
              "      <td>2</td>\n",
              "    </tr>\n",
              "    <tr>\n",
              "      <th>3</th>\n",
              "      <td>1003</td>\n",
              "      <td>2016-01-29</td>\n",
              "      <td>5089</td>\n",
              "      <td>743</td>\n",
              "      <td>28</td>\n",
              "      <td>NaN</td>\n",
              "      <td>n</td>\n",
              "      <td>error</td>\n",
              "      <td>4</td>\n",
              "    </tr>\n",
              "    <tr>\n",
              "      <th>4</th>\n",
              "      <td>1004</td>\n",
              "      <td>NaT</td>\n",
              "      <td>5179</td>\n",
              "      <td>613</td>\n",
              "      <td>14</td>\n",
              "      <td>377.25</td>\n",
              "      <td>n</td>\n",
              "      <td>error</td>\n",
              "      <td>0</td>\n",
              "    </tr>\n",
              "  </tbody>\n",
              "</table>\n",
              "</div>"
            ],
            "text/plain": [
              "   serial_no       date  user_id  ...  user_type  user_class  purchase_week\n",
              "0       1000        NaT     -101  ...          n       error              0\n",
              "1       1001        NaT     5243  ...          n       error              0\n",
              "2       1002 2016-01-15     5622  ...          n       error              2\n",
              "3       1003 2016-01-29     5089  ...          n       error              4\n",
              "4       1004        NaT     5179  ...          n       error              0\n",
              "\n",
              "[5 rows x 9 columns]"
            ]
          },
          "metadata": {
            "tags": []
          }
        },
        {
          "output_type": "stream",
          "text": [
            "Shape of df=(1000, 9)\n"
          ],
          "name": "stdout"
        }
      ]
    },
    {
      "cell_type": "markdown",
      "metadata": {
        "id": "TOw-3Y2C3IFE",
        "colab_type": "text"
      },
      "source": [
        "### Handle Categoricals\n",
        "**One Hot Encoding**"
      ]
    },
    {
      "cell_type": "code",
      "metadata": {
        "id": "Tdc2wNeF3MBy",
        "colab_type": "code",
        "colab": {
          "base_uri": "https://localhost:8080/",
          "height": 238
        },
        "outputId": "0273a0e3-961d-4ea2-ae25-b0765b886281"
      },
      "source": [
        "display(pd.get_dummies(df,columns=['user_type']).head())"
      ],
      "execution_count": 42,
      "outputs": [
        {
          "output_type": "display_data",
          "data": {
            "text/html": [
              "<div>\n",
              "<style scoped>\n",
              "    .dataframe tbody tr th:only-of-type {\n",
              "        vertical-align: middle;\n",
              "    }\n",
              "\n",
              "    .dataframe tbody tr th {\n",
              "        vertical-align: top;\n",
              "    }\n",
              "\n",
              "    .dataframe thead th {\n",
              "        text-align: right;\n",
              "    }\n",
              "</style>\n",
              "<table border=\"1\" class=\"dataframe\">\n",
              "  <thead>\n",
              "    <tr style=\"text-align: right;\">\n",
              "      <th></th>\n",
              "      <th>serial_no</th>\n",
              "      <th>date</th>\n",
              "      <th>user_id</th>\n",
              "      <th>product_id</th>\n",
              "      <th>quantity_purchased</th>\n",
              "      <th>price</th>\n",
              "      <th>user_class</th>\n",
              "      <th>purchase_week</th>\n",
              "      <th>user_type_a</th>\n",
              "      <th>user_type_b</th>\n",
              "      <th>user_type_c</th>\n",
              "      <th>user_type_d</th>\n",
              "      <th>user_type_n</th>\n",
              "    </tr>\n",
              "  </thead>\n",
              "  <tbody>\n",
              "    <tr>\n",
              "      <th>0</th>\n",
              "      <td>1000</td>\n",
              "      <td>NaT</td>\n",
              "      <td>-101</td>\n",
              "      <td>0</td>\n",
              "      <td>23</td>\n",
              "      <td>3269.85</td>\n",
              "      <td>error</td>\n",
              "      <td>0</td>\n",
              "      <td>0</td>\n",
              "      <td>0</td>\n",
              "      <td>0</td>\n",
              "      <td>0</td>\n",
              "      <td>1</td>\n",
              "    </tr>\n",
              "    <tr>\n",
              "      <th>1</th>\n",
              "      <td>1001</td>\n",
              "      <td>NaT</td>\n",
              "      <td>5243</td>\n",
              "      <td>209</td>\n",
              "      <td>35</td>\n",
              "      <td>2014.99</td>\n",
              "      <td>error</td>\n",
              "      <td>0</td>\n",
              "      <td>0</td>\n",
              "      <td>0</td>\n",
              "      <td>0</td>\n",
              "      <td>0</td>\n",
              "      <td>1</td>\n",
              "    </tr>\n",
              "    <tr>\n",
              "      <th>2</th>\n",
              "      <td>1002</td>\n",
              "      <td>2016-01-15</td>\n",
              "      <td>5622</td>\n",
              "      <td>1017</td>\n",
              "      <td>19</td>\n",
              "      <td>5008.50</td>\n",
              "      <td>error</td>\n",
              "      <td>2</td>\n",
              "      <td>0</td>\n",
              "      <td>0</td>\n",
              "      <td>0</td>\n",
              "      <td>0</td>\n",
              "      <td>1</td>\n",
              "    </tr>\n",
              "    <tr>\n",
              "      <th>3</th>\n",
              "      <td>1003</td>\n",
              "      <td>2016-01-29</td>\n",
              "      <td>5089</td>\n",
              "      <td>743</td>\n",
              "      <td>28</td>\n",
              "      <td>NaN</td>\n",
              "      <td>error</td>\n",
              "      <td>4</td>\n",
              "      <td>0</td>\n",
              "      <td>0</td>\n",
              "      <td>0</td>\n",
              "      <td>0</td>\n",
              "      <td>1</td>\n",
              "    </tr>\n",
              "    <tr>\n",
              "      <th>4</th>\n",
              "      <td>1004</td>\n",
              "      <td>NaT</td>\n",
              "      <td>5179</td>\n",
              "      <td>613</td>\n",
              "      <td>14</td>\n",
              "      <td>377.25</td>\n",
              "      <td>error</td>\n",
              "      <td>0</td>\n",
              "      <td>0</td>\n",
              "      <td>0</td>\n",
              "      <td>0</td>\n",
              "      <td>0</td>\n",
              "      <td>1</td>\n",
              "    </tr>\n",
              "  </tbody>\n",
              "</table>\n",
              "</div>"
            ],
            "text/plain": [
              "   serial_no       date  user_id  ...  user_type_c  user_type_d  user_type_n\n",
              "0       1000        NaT     -101  ...            0            0            1\n",
              "1       1001        NaT     5243  ...            0            0            1\n",
              "2       1002 2016-01-15     5622  ...            0            0            1\n",
              "3       1003 2016-01-29     5089  ...            0            0            1\n",
              "4       1004        NaT     5179  ...            0            0            1\n",
              "\n",
              "[5 rows x 13 columns]"
            ]
          },
          "metadata": {
            "tags": []
          }
        }
      ]
    },
    {
      "cell_type": "markdown",
      "metadata": {
        "id": "9hgaPKY03Tpg",
        "colab_type": "text"
      },
      "source": [
        "#### Label Encoding\n",
        "Question\n",
        "- Use a dictionary to encode user_types in sequence of numbers. Replace missing/Nan's with -1"
      ]
    },
    {
      "cell_type": "code",
      "metadata": {
        "id": "tpu0UIdT3WdP",
        "colab_type": "code",
        "colab": {
          "base_uri": "https://localhost:8080/",
          "height": 204
        },
        "outputId": "4fc165b1-125c-4329-97d7-711e7c2ce01d"
      },
      "source": [
        "type_map = {'a': 0, 'b': 1, 'c': 2, 'd': 3, np.NAN: -1}\n",
        "df['encoded_user_type'] = df.user_type.map(type_map)\n",
        "display((df.tail()))"
      ],
      "execution_count": 43,
      "outputs": [
        {
          "output_type": "display_data",
          "data": {
            "text/html": [
              "<div>\n",
              "<style scoped>\n",
              "    .dataframe tbody tr th:only-of-type {\n",
              "        vertical-align: middle;\n",
              "    }\n",
              "\n",
              "    .dataframe tbody tr th {\n",
              "        vertical-align: top;\n",
              "    }\n",
              "\n",
              "    .dataframe thead th {\n",
              "        text-align: right;\n",
              "    }\n",
              "</style>\n",
              "<table border=\"1\" class=\"dataframe\">\n",
              "  <thead>\n",
              "    <tr style=\"text-align: right;\">\n",
              "      <th></th>\n",
              "      <th>serial_no</th>\n",
              "      <th>date</th>\n",
              "      <th>user_id</th>\n",
              "      <th>product_id</th>\n",
              "      <th>quantity_purchased</th>\n",
              "      <th>price</th>\n",
              "      <th>user_type</th>\n",
              "      <th>user_class</th>\n",
              "      <th>purchase_week</th>\n",
              "      <th>encoded_user_type</th>\n",
              "    </tr>\n",
              "  </thead>\n",
              "  <tbody>\n",
              "    <tr>\n",
              "      <th>995</th>\n",
              "      <td>1995</td>\n",
              "      <td>2016-01-24</td>\n",
              "      <td>5372</td>\n",
              "      <td>126</td>\n",
              "      <td>4</td>\n",
              "      <td>3327.28</td>\n",
              "      <td>a</td>\n",
              "      <td>new</td>\n",
              "      <td>3</td>\n",
              "      <td>0.0</td>\n",
              "    </tr>\n",
              "    <tr>\n",
              "      <th>996</th>\n",
              "      <td>1996</td>\n",
              "      <td>2016-01-19</td>\n",
              "      <td>5217</td>\n",
              "      <td>491</td>\n",
              "      <td>16</td>\n",
              "      <td>2438.89</td>\n",
              "      <td>d</td>\n",
              "      <td>loyal_existing</td>\n",
              "      <td>3</td>\n",
              "      <td>3.0</td>\n",
              "    </tr>\n",
              "    <tr>\n",
              "      <th>997</th>\n",
              "      <td>1997</td>\n",
              "      <td>2016-11-01</td>\n",
              "      <td>5565</td>\n",
              "      <td>583</td>\n",
              "      <td>21</td>\n",
              "      <td>310.05</td>\n",
              "      <td>a</td>\n",
              "      <td>new</td>\n",
              "      <td>44</td>\n",
              "      <td>0.0</td>\n",
              "    </tr>\n",
              "    <tr>\n",
              "      <th>998</th>\n",
              "      <td>1998</td>\n",
              "      <td>2016-01-13</td>\n",
              "      <td>5721</td>\n",
              "      <td>844</td>\n",
              "      <td>34</td>\n",
              "      <td>991.62</td>\n",
              "      <td>d</td>\n",
              "      <td>loyal_existing</td>\n",
              "      <td>2</td>\n",
              "      <td>3.0</td>\n",
              "    </tr>\n",
              "    <tr>\n",
              "      <th>999</th>\n",
              "      <td>1999</td>\n",
              "      <td>2016-07-02</td>\n",
              "      <td>5224</td>\n",
              "      <td>859</td>\n",
              "      <td>28</td>\n",
              "      <td>3156.08</td>\n",
              "      <td>a</td>\n",
              "      <td>new</td>\n",
              "      <td>26</td>\n",
              "      <td>0.0</td>\n",
              "    </tr>\n",
              "  </tbody>\n",
              "</table>\n",
              "</div>"
            ],
            "text/plain": [
              "     serial_no       date  ...  purchase_week  encoded_user_type\n",
              "995       1995 2016-01-24  ...              3                0.0\n",
              "996       1996 2016-01-19  ...              3                3.0\n",
              "997       1997 2016-11-01  ...             44                0.0\n",
              "998       1998 2016-01-13  ...              2                3.0\n",
              "999       1999 2016-07-02  ...             26                0.0\n",
              "\n",
              "[5 rows x 10 columns]"
            ]
          },
          "metadata": {
            "tags": []
          }
        }
      ]
    },
    {
      "cell_type": "code",
      "metadata": {
        "id": "dHIgjNqt3uAY",
        "colab_type": "code",
        "colab": {}
      },
      "source": [
        ""
      ],
      "execution_count": 0,
      "outputs": []
    },
    {
      "cell_type": "markdown",
      "metadata": {
        "id": "xnufUe5W3xc4",
        "colab_type": "text"
      },
      "source": [
        "### **Handle Numerical Attributes**\n",
        "### **Min-Max Scalar**\n",
        "**Question**\n",
        "- Control the range of numerical attribute price by using MinMaxScaler transformer"
      ]
    },
    {
      "cell_type": "code",
      "metadata": {
        "id": "uWKayGux37BI",
        "colab_type": "code",
        "colab": {}
      },
      "source": [
        "df_normalized = df.dropna().copy()\n",
        "min_max_scaler = preprocessing.MinMaxScaler()\n",
        "np_scaled = min_max_scaler.fit_transform(df_normalized['price'].values.reshape(-1,1))\n",
        "df_normalized['price'] = np_scaled.reshape(-1,1)"
      ],
      "execution_count": 0,
      "outputs": []
    },
    {
      "cell_type": "markdown",
      "metadata": {
        "id": "r1540eOk3_wI",
        "colab_type": "text"
      },
      "source": [
        "**Robust Scaler**"
      ]
    },
    {
      "cell_type": "code",
      "metadata": {
        "id": "a12x0l0r4Eaj",
        "colab_type": "code",
        "colab": {}
      },
      "source": [
        "df_normalized = df.dropna().copy()\n",
        "robust_scaler = preprocessing.RobustScaler()\n",
        "rs_scaled = robust_scaler.fit_transform(df_normalized['quantity_purchased'].values.reshape(-1,1))\n",
        "df_normalized['quantity_purchased'] = rs_scaled.reshape(-1,1)"
      ],
      "execution_count": 0,
      "outputs": []
    },
    {
      "cell_type": "code",
      "metadata": {
        "id": "s8duFGzG4KHE",
        "colab_type": "code",
        "colab": {
          "base_uri": "https://localhost:8080/",
          "height": 204
        },
        "outputId": "e98d20e6-6e6c-4b95-b31f-0bbcc23bb1c8"
      },
      "source": [
        "display(df_normalized.head())"
      ],
      "execution_count": 46,
      "outputs": [
        {
          "output_type": "display_data",
          "data": {
            "text/html": [
              "<div>\n",
              "<style scoped>\n",
              "    .dataframe tbody tr th:only-of-type {\n",
              "        vertical-align: middle;\n",
              "    }\n",
              "\n",
              "    .dataframe tbody tr th {\n",
              "        vertical-align: top;\n",
              "    }\n",
              "\n",
              "    .dataframe thead th {\n",
              "        text-align: right;\n",
              "    }\n",
              "</style>\n",
              "<table border=\"1\" class=\"dataframe\">\n",
              "  <thead>\n",
              "    <tr style=\"text-align: right;\">\n",
              "      <th></th>\n",
              "      <th>serial_no</th>\n",
              "      <th>date</th>\n",
              "      <th>user_id</th>\n",
              "      <th>product_id</th>\n",
              "      <th>quantity_purchased</th>\n",
              "      <th>price</th>\n",
              "      <th>user_type</th>\n",
              "      <th>user_class</th>\n",
              "      <th>purchase_week</th>\n",
              "      <th>encoded_user_type</th>\n",
              "    </tr>\n",
              "  </thead>\n",
              "  <tbody>\n",
              "    <tr>\n",
              "      <th>24</th>\n",
              "      <td>1024</td>\n",
              "      <td>2016-01-22</td>\n",
              "      <td>5180</td>\n",
              "      <td>320</td>\n",
              "      <td>-0.867470</td>\n",
              "      <td>692.90</td>\n",
              "      <td>d</td>\n",
              "      <td>loyal_existing</td>\n",
              "      <td>3</td>\n",
              "      <td>3.0</td>\n",
              "    </tr>\n",
              "    <tr>\n",
              "      <th>27</th>\n",
              "      <td>1027</td>\n",
              "      <td>2016-09-02</td>\n",
              "      <td>5724</td>\n",
              "      <td>405</td>\n",
              "      <td>-0.144578</td>\n",
              "      <td>2448.42</td>\n",
              "      <td>a</td>\n",
              "      <td>new</td>\n",
              "      <td>35</td>\n",
              "      <td>0.0</td>\n",
              "    </tr>\n",
              "    <tr>\n",
              "      <th>32</th>\n",
              "      <td>1032</td>\n",
              "      <td>2016-03-02</td>\n",
              "      <td>5210</td>\n",
              "      <td>871</td>\n",
              "      <td>0.048193</td>\n",
              "      <td>2052.48</td>\n",
              "      <td>d</td>\n",
              "      <td>loyal_existing</td>\n",
              "      <td>9</td>\n",
              "      <td>3.0</td>\n",
              "    </tr>\n",
              "    <tr>\n",
              "      <th>33</th>\n",
              "      <td>1033</td>\n",
              "      <td>2016-08-02</td>\n",
              "      <td>5959</td>\n",
              "      <td>594</td>\n",
              "      <td>1.060241</td>\n",
              "      <td>2834.89</td>\n",
              "      <td>d</td>\n",
              "      <td>loyal_existing</td>\n",
              "      <td>31</td>\n",
              "      <td>3.0</td>\n",
              "    </tr>\n",
              "    <tr>\n",
              "      <th>34</th>\n",
              "      <td>1034</td>\n",
              "      <td>2016-09-02</td>\n",
              "      <td>5327</td>\n",
              "      <td>821</td>\n",
              "      <td>-0.096386</td>\n",
              "      <td>4052.01</td>\n",
              "      <td>a</td>\n",
              "      <td>new</td>\n",
              "      <td>35</td>\n",
              "      <td>0.0</td>\n",
              "    </tr>\n",
              "  </tbody>\n",
              "</table>\n",
              "</div>"
            ],
            "text/plain": [
              "    serial_no       date  ...  purchase_week  encoded_user_type\n",
              "24       1024 2016-01-22  ...              3                3.0\n",
              "27       1027 2016-09-02  ...             35                0.0\n",
              "32       1032 2016-03-02  ...              9                3.0\n",
              "33       1033 2016-08-02  ...             31                3.0\n",
              "34       1034 2016-09-02  ...             35                0.0\n",
              "\n",
              "[5 rows x 10 columns]"
            ]
          },
          "metadata": {
            "tags": []
          }
        }
      ]
    },
    {
      "cell_type": "markdown",
      "metadata": {
        "id": "QVjbKza94N8Y",
        "colab_type": "text"
      },
      "source": [
        "### **Group-By**\n",
        "**Question**\n",
        "- Group By attribute user_class and get sum of quantity_purchased\n",
        "Hint: you may want to use Pandas groupby method to group by certain attributes before calculating the statistic.\n",
        "\n"
      ]
    },
    {
      "cell_type": "code",
      "metadata": {
        "id": "bKq-cF954djk",
        "colab_type": "code",
        "colab": {
          "base_uri": "https://localhost:8080/",
          "height": 119
        },
        "outputId": "6172afd7-6ff0-4d80-d844-b55c894d75e3"
      },
      "source": [
        "# Group By attributes user_class and get sum of quantity_purchased\n",
        "print(df.groupby(['user_class'])['quantity_purchased'].sum())"
      ],
      "execution_count": 47,
      "outputs": [
        {
          "output_type": "stream",
          "text": [
            "user_class\n",
            "error              659\n",
            "existing          4392\n",
            "loyal_existing    5114\n",
            "new               9874\n",
            "Name: quantity_purchased, dtype: int64\n"
          ],
          "name": "stdout"
        }
      ]
    },
    {
      "cell_type": "code",
      "metadata": {
        "id": "EDNexCTV4k7M",
        "colab_type": "code",
        "colab": {
          "base_uri": "https://localhost:8080/",
          "height": 204
        },
        "outputId": "56f60554-102c-4128-9f41-1c9e1e7f12bf"
      },
      "source": [
        " #Aggregate Functions. Sum, Mean and Non Zero Row Count\n",
        "display(\n",
        "    df.groupby(['user_class'])['quantity_purchased'].agg(\n",
        "        [np.sum, np.mean, np.count_nonzero]))"
      ],
      "execution_count": 48,
      "outputs": [
        {
          "output_type": "display_data",
          "data": {
            "text/html": [
              "<div>\n",
              "<style scoped>\n",
              "    .dataframe tbody tr th:only-of-type {\n",
              "        vertical-align: middle;\n",
              "    }\n",
              "\n",
              "    .dataframe tbody tr th {\n",
              "        vertical-align: top;\n",
              "    }\n",
              "\n",
              "    .dataframe thead th {\n",
              "        text-align: right;\n",
              "    }\n",
              "</style>\n",
              "<table border=\"1\" class=\"dataframe\">\n",
              "  <thead>\n",
              "    <tr style=\"text-align: right;\">\n",
              "      <th></th>\n",
              "      <th>sum</th>\n",
              "      <th>mean</th>\n",
              "      <th>count_nonzero</th>\n",
              "    </tr>\n",
              "    <tr>\n",
              "      <th>user_class</th>\n",
              "      <th></th>\n",
              "      <th></th>\n",
              "      <th></th>\n",
              "    </tr>\n",
              "  </thead>\n",
              "  <tbody>\n",
              "    <tr>\n",
              "      <th>error</th>\n",
              "      <td>659</td>\n",
              "      <td>21.258065</td>\n",
              "      <td>31</td>\n",
              "    </tr>\n",
              "    <tr>\n",
              "      <th>existing</th>\n",
              "      <td>4392</td>\n",
              "      <td>20.333333</td>\n",
              "      <td>216</td>\n",
              "    </tr>\n",
              "    <tr>\n",
              "      <th>loyal_existing</th>\n",
              "      <td>5114</td>\n",
              "      <td>19.444867</td>\n",
              "      <td>263</td>\n",
              "    </tr>\n",
              "    <tr>\n",
              "      <th>new</th>\n",
              "      <td>9874</td>\n",
              "      <td>20.151020</td>\n",
              "      <td>490</td>\n",
              "    </tr>\n",
              "  </tbody>\n",
              "</table>\n",
              "</div>"
            ],
            "text/plain": [
              "                 sum       mean  count_nonzero\n",
              "user_class                                    \n",
              "error            659  21.258065             31\n",
              "existing        4392  20.333333            216\n",
              "loyal_existing  5114  19.444867            263\n",
              "new             9874  20.151020            490"
            ]
          },
          "metadata": {
            "tags": []
          }
        }
      ]
    },
    {
      "cell_type": "code",
      "metadata": {
        "id": "Rc5eUCXU4q4f",
        "colab_type": "code",
        "colab": {
          "base_uri": "https://localhost:8080/",
          "height": 235
        },
        "outputId": "ff7bc774-dbee-4452-e1e7-654e1e3f7e3f"
      },
      "source": [
        "display(df.groupby(['user_class','user_type']).agg({'price':np.mean,\n",
        "                                                        'quantity_purchased':np.max}))"
      ],
      "execution_count": 49,
      "outputs": [
        {
          "output_type": "display_data",
          "data": {
            "text/html": [
              "<div>\n",
              "<style scoped>\n",
              "    .dataframe tbody tr th:only-of-type {\n",
              "        vertical-align: middle;\n",
              "    }\n",
              "\n",
              "    .dataframe tbody tr th {\n",
              "        vertical-align: top;\n",
              "    }\n",
              "\n",
              "    .dataframe thead th {\n",
              "        text-align: right;\n",
              "    }\n",
              "</style>\n",
              "<table border=\"1\" class=\"dataframe\">\n",
              "  <thead>\n",
              "    <tr style=\"text-align: right;\">\n",
              "      <th></th>\n",
              "      <th></th>\n",
              "      <th>price</th>\n",
              "      <th>quantity_purchased</th>\n",
              "    </tr>\n",
              "    <tr>\n",
              "      <th>user_class</th>\n",
              "      <th>user_type</th>\n",
              "      <th></th>\n",
              "      <th></th>\n",
              "    </tr>\n",
              "  </thead>\n",
              "  <tbody>\n",
              "    <tr>\n",
              "      <th>error</th>\n",
              "      <th>n</th>\n",
              "      <td>1998.481667</td>\n",
              "      <td>39</td>\n",
              "    </tr>\n",
              "    <tr>\n",
              "      <th>existing</th>\n",
              "      <th>c</th>\n",
              "      <td>2345.008261</td>\n",
              "      <td>41</td>\n",
              "    </tr>\n",
              "    <tr>\n",
              "      <th>loyal_existing</th>\n",
              "      <th>d</th>\n",
              "      <td>2358.663398</td>\n",
              "      <td>41</td>\n",
              "    </tr>\n",
              "    <tr>\n",
              "      <th rowspan=\"2\" valign=\"top\">new</th>\n",
              "      <th>a</th>\n",
              "      <td>2260.412788</td>\n",
              "      <td>41</td>\n",
              "    </tr>\n",
              "    <tr>\n",
              "      <th>b</th>\n",
              "      <td>2292.587680</td>\n",
              "      <td>41</td>\n",
              "    </tr>\n",
              "  </tbody>\n",
              "</table>\n",
              "</div>"
            ],
            "text/plain": [
              "                                price  quantity_purchased\n",
              "user_class     user_type                                 \n",
              "error          n          1998.481667                  39\n",
              "existing       c          2345.008261                  41\n",
              "loyal_existing d          2358.663398                  41\n",
              "new            a          2260.412788                  41\n",
              "               b          2292.587680                  41"
            ]
          },
          "metadata": {
            "tags": []
          }
        }
      ]
    },
    {
      "cell_type": "code",
      "metadata": {
        "id": "9p5yTphf4vMS",
        "colab_type": "code",
        "colab": {
          "base_uri": "https://localhost:8080/",
          "height": 402
        },
        "outputId": "45d56466-a59d-48da-ba71-b191caa0054d"
      },
      "source": [
        "# Multiple Aggregate Functions\n",
        "display(\n",
        "    df.groupby(['user_class', 'user_type']).agg({\n",
        "        'price': {\n",
        "            'total_price': np.sum,\n",
        "            'mean_price': np.mean,\n",
        "            'variance_price': np.std,\n",
        "            'count': np.count_nonzero\n",
        "        },\n",
        "        'quantity_purchased': np.sum\n",
        "    }))"
      ],
      "execution_count": 50,
      "outputs": [
        {
          "output_type": "stream",
          "text": [
            "/usr/local/lib/python3.6/dist-packages/pandas/core/groupby/generic.py:1455: FutureWarning: using a dict with renaming is deprecated and will be removed\n",
            "in a future version.\n",
            "\n",
            "For column-specific groupby renaming, use named aggregation\n",
            "\n",
            "    >>> df.groupby(...).agg(name=('column', aggfunc))\n",
            "\n",
            "  return super().aggregate(arg, *args, **kwargs)\n"
          ],
          "name": "stderr"
        },
        {
          "output_type": "display_data",
          "data": {
            "text/html": [
              "<div>\n",
              "<style scoped>\n",
              "    .dataframe tbody tr th:only-of-type {\n",
              "        vertical-align: middle;\n",
              "    }\n",
              "\n",
              "    .dataframe tbody tr th {\n",
              "        vertical-align: top;\n",
              "    }\n",
              "\n",
              "    .dataframe thead tr th {\n",
              "        text-align: left;\n",
              "    }\n",
              "\n",
              "    .dataframe thead tr:last-of-type th {\n",
              "        text-align: right;\n",
              "    }\n",
              "</style>\n",
              "<table border=\"1\" class=\"dataframe\">\n",
              "  <thead>\n",
              "    <tr>\n",
              "      <th></th>\n",
              "      <th></th>\n",
              "      <th colspan=\"4\" halign=\"left\">price</th>\n",
              "      <th>quantity_purchased</th>\n",
              "    </tr>\n",
              "    <tr>\n",
              "      <th></th>\n",
              "      <th></th>\n",
              "      <th>total_price</th>\n",
              "      <th>mean_price</th>\n",
              "      <th>variance_price</th>\n",
              "      <th>count</th>\n",
              "      <th>sum</th>\n",
              "    </tr>\n",
              "    <tr>\n",
              "      <th>user_class</th>\n",
              "      <th>user_type</th>\n",
              "      <th></th>\n",
              "      <th></th>\n",
              "      <th></th>\n",
              "      <th></th>\n",
              "      <th></th>\n",
              "    </tr>\n",
              "  </thead>\n",
              "  <tbody>\n",
              "    <tr>\n",
              "      <th>error</th>\n",
              "      <th>n</th>\n",
              "      <td>59954.45</td>\n",
              "      <td>1998.481667</td>\n",
              "      <td>1542.409722</td>\n",
              "      <td>31.0</td>\n",
              "      <td>659</td>\n",
              "    </tr>\n",
              "    <tr>\n",
              "      <th>existing</th>\n",
              "      <th>c</th>\n",
              "      <td>485416.71</td>\n",
              "      <td>2345.008261</td>\n",
              "      <td>1443.811155</td>\n",
              "      <td>216.0</td>\n",
              "      <td>4392</td>\n",
              "    </tr>\n",
              "    <tr>\n",
              "      <th>loyal_existing</th>\n",
              "      <th>d</th>\n",
              "      <td>603817.83</td>\n",
              "      <td>2358.663398</td>\n",
              "      <td>1582.447298</td>\n",
              "      <td>263.0</td>\n",
              "      <td>5114</td>\n",
              "    </tr>\n",
              "    <tr>\n",
              "      <th rowspan=\"2\" valign=\"top\">new</th>\n",
              "      <th>a</th>\n",
              "      <td>510853.29</td>\n",
              "      <td>2260.412788</td>\n",
              "      <td>1638.852527</td>\n",
              "      <td>235.0</td>\n",
              "      <td>4723</td>\n",
              "    </tr>\n",
              "    <tr>\n",
              "      <th>b</th>\n",
              "      <td>573146.92</td>\n",
              "      <td>2292.587680</td>\n",
              "      <td>1565.618614</td>\n",
              "      <td>255.0</td>\n",
              "      <td>5151</td>\n",
              "    </tr>\n",
              "  </tbody>\n",
              "</table>\n",
              "</div>"
            ],
            "text/plain": [
              "                               price               ...        quantity_purchased\n",
              "                         total_price   mean_price  ...  count                sum\n",
              "user_class     user_type                           ...                          \n",
              "error          n            59954.45  1998.481667  ...   31.0                659\n",
              "existing       c           485416.71  2345.008261  ...  216.0               4392\n",
              "loyal_existing d           603817.83  2358.663398  ...  263.0               5114\n",
              "new            a           510853.29  2260.412788  ...  235.0               4723\n",
              "               b           573146.92  2292.587680  ...  255.0               5151\n",
              "\n",
              "[5 rows x 5 columns]"
            ]
          },
          "metadata": {
            "tags": []
          }
        }
      ]
    },
    {
      "cell_type": "markdown",
      "metadata": {
        "id": "GGdFQEoa4zlm",
        "colab_type": "text"
      },
      "source": [
        "### **Pivot Tables**"
      ]
    },
    {
      "cell_type": "code",
      "metadata": {
        "id": "_dCU0kC343n4",
        "colab_type": "code",
        "colab": {
          "base_uri": "https://localhost:8080/",
          "height": 1000
        },
        "outputId": "48d2bbe0-07aa-41ae-caa5-4da8ad15c9a5"
      },
      "source": [
        "display(df.pivot_table(index='date', columns='user_type', \n",
        "                         values='price',aggfunc=np.mean))"
      ],
      "execution_count": 51,
      "outputs": [
        {
          "output_type": "display_data",
          "data": {
            "text/html": [
              "<div>\n",
              "<style scoped>\n",
              "    .dataframe tbody tr th:only-of-type {\n",
              "        vertical-align: middle;\n",
              "    }\n",
              "\n",
              "    .dataframe tbody tr th {\n",
              "        vertical-align: top;\n",
              "    }\n",
              "\n",
              "    .dataframe thead th {\n",
              "        text-align: right;\n",
              "    }\n",
              "</style>\n",
              "<table border=\"1\" class=\"dataframe\">\n",
              "  <thead>\n",
              "    <tr style=\"text-align: right;\">\n",
              "      <th>user_type</th>\n",
              "      <th>a</th>\n",
              "      <th>b</th>\n",
              "      <th>c</th>\n",
              "      <th>d</th>\n",
              "      <th>n</th>\n",
              "    </tr>\n",
              "    <tr>\n",
              "      <th>date</th>\n",
              "      <th></th>\n",
              "      <th></th>\n",
              "      <th></th>\n",
              "      <th></th>\n",
              "      <th></th>\n",
              "    </tr>\n",
              "  </thead>\n",
              "  <tbody>\n",
              "    <tr>\n",
              "      <th>2016-01-01</th>\n",
              "      <td>1779.835000</td>\n",
              "      <td>2686.263333</td>\n",
              "      <td>1771.993333</td>\n",
              "      <td>2226.450000</td>\n",
              "      <td>NaN</td>\n",
              "    </tr>\n",
              "    <tr>\n",
              "      <th>2016-01-02</th>\n",
              "      <td>2728.500000</td>\n",
              "      <td>2151.105455</td>\n",
              "      <td>1986.322500</td>\n",
              "      <td>2012.010000</td>\n",
              "      <td>1791.805000</td>\n",
              "    </tr>\n",
              "    <tr>\n",
              "      <th>2016-01-13</th>\n",
              "      <td>2186.888333</td>\n",
              "      <td>2647.956250</td>\n",
              "      <td>2059.875000</td>\n",
              "      <td>1987.285455</td>\n",
              "      <td>NaN</td>\n",
              "    </tr>\n",
              "    <tr>\n",
              "      <th>2016-01-14</th>\n",
              "      <td>1911.054286</td>\n",
              "      <td>2475.243750</td>\n",
              "      <td>5391.355000</td>\n",
              "      <td>3427.183333</td>\n",
              "      <td>NaN</td>\n",
              "    </tr>\n",
              "    <tr>\n",
              "      <th>2016-01-15</th>\n",
              "      <td>2808.402500</td>\n",
              "      <td>3193.993333</td>\n",
              "      <td>2835.050000</td>\n",
              "      <td>1960.786667</td>\n",
              "      <td>3630.905000</td>\n",
              "    </tr>\n",
              "    <tr>\n",
              "      <th>2016-01-16</th>\n",
              "      <td>1615.926250</td>\n",
              "      <td>2014.190000</td>\n",
              "      <td>3236.770000</td>\n",
              "      <td>4402.620000</td>\n",
              "      <td>NaN</td>\n",
              "    </tr>\n",
              "    <tr>\n",
              "      <th>2016-01-17</th>\n",
              "      <td>1744.336000</td>\n",
              "      <td>2660.750000</td>\n",
              "      <td>2372.905000</td>\n",
              "      <td>2218.950000</td>\n",
              "      <td>1152.310000</td>\n",
              "    </tr>\n",
              "    <tr>\n",
              "      <th>2016-01-18</th>\n",
              "      <td>2801.450000</td>\n",
              "      <td>1621.242500</td>\n",
              "      <td>1842.843333</td>\n",
              "      <td>3213.638000</td>\n",
              "      <td>NaN</td>\n",
              "    </tr>\n",
              "    <tr>\n",
              "      <th>2016-01-19</th>\n",
              "      <td>726.206667</td>\n",
              "      <td>1881.148000</td>\n",
              "      <td>2078.983333</td>\n",
              "      <td>2617.224286</td>\n",
              "      <td>NaN</td>\n",
              "    </tr>\n",
              "    <tr>\n",
              "      <th>2016-01-20</th>\n",
              "      <td>2672.770000</td>\n",
              "      <td>1207.628000</td>\n",
              "      <td>2479.979231</td>\n",
              "      <td>2515.611667</td>\n",
              "      <td>2353.225000</td>\n",
              "    </tr>\n",
              "    <tr>\n",
              "      <th>2016-01-21</th>\n",
              "      <td>3206.045000</td>\n",
              "      <td>3350.860000</td>\n",
              "      <td>2513.094286</td>\n",
              "      <td>3025.957143</td>\n",
              "      <td>NaN</td>\n",
              "    </tr>\n",
              "    <tr>\n",
              "      <th>2016-01-22</th>\n",
              "      <td>1457.696667</td>\n",
              "      <td>989.844000</td>\n",
              "      <td>2571.613333</td>\n",
              "      <td>2671.880000</td>\n",
              "      <td>3627.050000</td>\n",
              "    </tr>\n",
              "    <tr>\n",
              "      <th>2016-01-23</th>\n",
              "      <td>3752.533333</td>\n",
              "      <td>1907.788333</td>\n",
              "      <td>2296.290000</td>\n",
              "      <td>2321.335000</td>\n",
              "      <td>1796.940000</td>\n",
              "    </tr>\n",
              "    <tr>\n",
              "      <th>2016-01-24</th>\n",
              "      <td>2502.980000</td>\n",
              "      <td>2731.606000</td>\n",
              "      <td>2470.545000</td>\n",
              "      <td>1355.776000</td>\n",
              "      <td>NaN</td>\n",
              "    </tr>\n",
              "    <tr>\n",
              "      <th>2016-01-25</th>\n",
              "      <td>1736.815714</td>\n",
              "      <td>2929.296667</td>\n",
              "      <td>1818.050000</td>\n",
              "      <td>2006.902000</td>\n",
              "      <td>NaN</td>\n",
              "    </tr>\n",
              "    <tr>\n",
              "      <th>2016-01-26</th>\n",
              "      <td>2217.790000</td>\n",
              "      <td>2394.270000</td>\n",
              "      <td>2334.522500</td>\n",
              "      <td>2022.770000</td>\n",
              "      <td>NaN</td>\n",
              "    </tr>\n",
              "    <tr>\n",
              "      <th>2016-01-27</th>\n",
              "      <td>3193.072500</td>\n",
              "      <td>1671.548000</td>\n",
              "      <td>2625.035000</td>\n",
              "      <td>2841.663333</td>\n",
              "      <td>4373.175000</td>\n",
              "    </tr>\n",
              "    <tr>\n",
              "      <th>2016-01-28</th>\n",
              "      <td>2158.490000</td>\n",
              "      <td>3829.030000</td>\n",
              "      <td>1974.590000</td>\n",
              "      <td>3400.820000</td>\n",
              "      <td>NaN</td>\n",
              "    </tr>\n",
              "    <tr>\n",
              "      <th>2016-01-29</th>\n",
              "      <td>2138.907500</td>\n",
              "      <td>2299.101667</td>\n",
              "      <td>1897.070909</td>\n",
              "      <td>2021.881667</td>\n",
              "      <td>58.550000</td>\n",
              "    </tr>\n",
              "    <tr>\n",
              "      <th>2016-01-30</th>\n",
              "      <td>1281.025000</td>\n",
              "      <td>1930.510000</td>\n",
              "      <td>1603.976667</td>\n",
              "      <td>567.195000</td>\n",
              "      <td>NaN</td>\n",
              "    </tr>\n",
              "    <tr>\n",
              "      <th>2016-01-31</th>\n",
              "      <td>2156.606667</td>\n",
              "      <td>1720.300000</td>\n",
              "      <td>2192.845000</td>\n",
              "      <td>1641.690000</td>\n",
              "      <td>1405.580000</td>\n",
              "    </tr>\n",
              "    <tr>\n",
              "      <th>2016-02-01</th>\n",
              "      <td>2199.102000</td>\n",
              "      <td>1955.747778</td>\n",
              "      <td>1639.620000</td>\n",
              "      <td>2679.458000</td>\n",
              "      <td>NaN</td>\n",
              "    </tr>\n",
              "    <tr>\n",
              "      <th>2016-02-02</th>\n",
              "      <td>3524.250000</td>\n",
              "      <td>2929.051429</td>\n",
              "      <td>2450.624286</td>\n",
              "      <td>1923.162222</td>\n",
              "      <td>NaN</td>\n",
              "    </tr>\n",
              "    <tr>\n",
              "      <th>2016-03-01</th>\n",
              "      <td>2654.057143</td>\n",
              "      <td>1283.080000</td>\n",
              "      <td>1676.405000</td>\n",
              "      <td>2070.547143</td>\n",
              "      <td>680.150000</td>\n",
              "    </tr>\n",
              "    <tr>\n",
              "      <th>2016-03-02</th>\n",
              "      <td>1770.636000</td>\n",
              "      <td>1787.055000</td>\n",
              "      <td>1308.535000</td>\n",
              "      <td>2175.676667</td>\n",
              "      <td>3235.910000</td>\n",
              "    </tr>\n",
              "    <tr>\n",
              "      <th>2016-04-01</th>\n",
              "      <td>1057.973333</td>\n",
              "      <td>1302.650000</td>\n",
              "      <td>827.232500</td>\n",
              "      <td>2588.373333</td>\n",
              "      <td>NaN</td>\n",
              "    </tr>\n",
              "    <tr>\n",
              "      <th>2016-04-02</th>\n",
              "      <td>2188.227500</td>\n",
              "      <td>2259.550000</td>\n",
              "      <td>4153.970000</td>\n",
              "      <td>2530.772500</td>\n",
              "      <td>NaN</td>\n",
              "    </tr>\n",
              "    <tr>\n",
              "      <th>2016-05-01</th>\n",
              "      <td>2779.118750</td>\n",
              "      <td>1960.887500</td>\n",
              "      <td>2491.160000</td>\n",
              "      <td>3332.470000</td>\n",
              "      <td>NaN</td>\n",
              "    </tr>\n",
              "    <tr>\n",
              "      <th>2016-05-02</th>\n",
              "      <td>597.585000</td>\n",
              "      <td>1232.294000</td>\n",
              "      <td>2130.502500</td>\n",
              "      <td>2377.168889</td>\n",
              "      <td>NaN</td>\n",
              "    </tr>\n",
              "    <tr>\n",
              "      <th>2016-06-01</th>\n",
              "      <td>415.666667</td>\n",
              "      <td>2866.452000</td>\n",
              "      <td>3217.530000</td>\n",
              "      <td>2889.327143</td>\n",
              "      <td>1267.060000</td>\n",
              "    </tr>\n",
              "    <tr>\n",
              "      <th>2016-06-02</th>\n",
              "      <td>1390.588333</td>\n",
              "      <td>1512.582000</td>\n",
              "      <td>2196.750000</td>\n",
              "      <td>2211.507000</td>\n",
              "      <td>NaN</td>\n",
              "    </tr>\n",
              "    <tr>\n",
              "      <th>2016-07-01</th>\n",
              "      <td>2439.495000</td>\n",
              "      <td>2651.502857</td>\n",
              "      <td>2515.353333</td>\n",
              "      <td>2844.306667</td>\n",
              "      <td>NaN</td>\n",
              "    </tr>\n",
              "    <tr>\n",
              "      <th>2016-07-02</th>\n",
              "      <td>1141.298333</td>\n",
              "      <td>2186.243636</td>\n",
              "      <td>1484.898000</td>\n",
              "      <td>2128.428000</td>\n",
              "      <td>NaN</td>\n",
              "    </tr>\n",
              "    <tr>\n",
              "      <th>2016-08-01</th>\n",
              "      <td>4031.921429</td>\n",
              "      <td>3440.533333</td>\n",
              "      <td>2226.812000</td>\n",
              "      <td>1655.888000</td>\n",
              "      <td>NaN</td>\n",
              "    </tr>\n",
              "    <tr>\n",
              "      <th>2016-08-02</th>\n",
              "      <td>5051.970000</td>\n",
              "      <td>2448.311667</td>\n",
              "      <td>1861.434000</td>\n",
              "      <td>2055.824444</td>\n",
              "      <td>NaN</td>\n",
              "    </tr>\n",
              "    <tr>\n",
              "      <th>2016-09-01</th>\n",
              "      <td>2239.880000</td>\n",
              "      <td>3615.680000</td>\n",
              "      <td>2176.456250</td>\n",
              "      <td>2349.600000</td>\n",
              "      <td>NaN</td>\n",
              "    </tr>\n",
              "    <tr>\n",
              "      <th>2016-09-02</th>\n",
              "      <td>2154.197143</td>\n",
              "      <td>1811.206000</td>\n",
              "      <td>2857.240000</td>\n",
              "      <td>NaN</td>\n",
              "      <td>30.010000</td>\n",
              "    </tr>\n",
              "    <tr>\n",
              "      <th>2016-10-01</th>\n",
              "      <td>2535.438000</td>\n",
              "      <td>1689.242500</td>\n",
              "      <td>2327.763333</td>\n",
              "      <td>1529.912000</td>\n",
              "      <td>NaN</td>\n",
              "    </tr>\n",
              "    <tr>\n",
              "      <th>2016-10-02</th>\n",
              "      <td>2502.705000</td>\n",
              "      <td>1848.804000</td>\n",
              "      <td>4180.456667</td>\n",
              "      <td>2905.945000</td>\n",
              "      <td>NaN</td>\n",
              "    </tr>\n",
              "    <tr>\n",
              "      <th>2016-11-01</th>\n",
              "      <td>2027.597500</td>\n",
              "      <td>2416.430000</td>\n",
              "      <td>2594.050000</td>\n",
              "      <td>1444.087500</td>\n",
              "      <td>NaN</td>\n",
              "    </tr>\n",
              "    <tr>\n",
              "      <th>2016-11-02</th>\n",
              "      <td>3376.294000</td>\n",
              "      <td>3351.983333</td>\n",
              "      <td>3742.430000</td>\n",
              "      <td>2604.766000</td>\n",
              "      <td>NaN</td>\n",
              "    </tr>\n",
              "    <tr>\n",
              "      <th>2016-12-01</th>\n",
              "      <td>3458.876667</td>\n",
              "      <td>1683.400000</td>\n",
              "      <td>1910.436667</td>\n",
              "      <td>2333.158333</td>\n",
              "      <td>2770.766667</td>\n",
              "    </tr>\n",
              "  </tbody>\n",
              "</table>\n",
              "</div>"
            ],
            "text/plain": [
              "user_type             a            b            c            d            n\n",
              "date                                                                       \n",
              "2016-01-01  1779.835000  2686.263333  1771.993333  2226.450000          NaN\n",
              "2016-01-02  2728.500000  2151.105455  1986.322500  2012.010000  1791.805000\n",
              "2016-01-13  2186.888333  2647.956250  2059.875000  1987.285455          NaN\n",
              "2016-01-14  1911.054286  2475.243750  5391.355000  3427.183333          NaN\n",
              "2016-01-15  2808.402500  3193.993333  2835.050000  1960.786667  3630.905000\n",
              "2016-01-16  1615.926250  2014.190000  3236.770000  4402.620000          NaN\n",
              "2016-01-17  1744.336000  2660.750000  2372.905000  2218.950000  1152.310000\n",
              "2016-01-18  2801.450000  1621.242500  1842.843333  3213.638000          NaN\n",
              "2016-01-19   726.206667  1881.148000  2078.983333  2617.224286          NaN\n",
              "2016-01-20  2672.770000  1207.628000  2479.979231  2515.611667  2353.225000\n",
              "2016-01-21  3206.045000  3350.860000  2513.094286  3025.957143          NaN\n",
              "2016-01-22  1457.696667   989.844000  2571.613333  2671.880000  3627.050000\n",
              "2016-01-23  3752.533333  1907.788333  2296.290000  2321.335000  1796.940000\n",
              "2016-01-24  2502.980000  2731.606000  2470.545000  1355.776000          NaN\n",
              "2016-01-25  1736.815714  2929.296667  1818.050000  2006.902000          NaN\n",
              "2016-01-26  2217.790000  2394.270000  2334.522500  2022.770000          NaN\n",
              "2016-01-27  3193.072500  1671.548000  2625.035000  2841.663333  4373.175000\n",
              "2016-01-28  2158.490000  3829.030000  1974.590000  3400.820000          NaN\n",
              "2016-01-29  2138.907500  2299.101667  1897.070909  2021.881667    58.550000\n",
              "2016-01-30  1281.025000  1930.510000  1603.976667   567.195000          NaN\n",
              "2016-01-31  2156.606667  1720.300000  2192.845000  1641.690000  1405.580000\n",
              "2016-02-01  2199.102000  1955.747778  1639.620000  2679.458000          NaN\n",
              "2016-02-02  3524.250000  2929.051429  2450.624286  1923.162222          NaN\n",
              "2016-03-01  2654.057143  1283.080000  1676.405000  2070.547143   680.150000\n",
              "2016-03-02  1770.636000  1787.055000  1308.535000  2175.676667  3235.910000\n",
              "2016-04-01  1057.973333  1302.650000   827.232500  2588.373333          NaN\n",
              "2016-04-02  2188.227500  2259.550000  4153.970000  2530.772500          NaN\n",
              "2016-05-01  2779.118750  1960.887500  2491.160000  3332.470000          NaN\n",
              "2016-05-02   597.585000  1232.294000  2130.502500  2377.168889          NaN\n",
              "2016-06-01   415.666667  2866.452000  3217.530000  2889.327143  1267.060000\n",
              "2016-06-02  1390.588333  1512.582000  2196.750000  2211.507000          NaN\n",
              "2016-07-01  2439.495000  2651.502857  2515.353333  2844.306667          NaN\n",
              "2016-07-02  1141.298333  2186.243636  1484.898000  2128.428000          NaN\n",
              "2016-08-01  4031.921429  3440.533333  2226.812000  1655.888000          NaN\n",
              "2016-08-02  5051.970000  2448.311667  1861.434000  2055.824444          NaN\n",
              "2016-09-01  2239.880000  3615.680000  2176.456250  2349.600000          NaN\n",
              "2016-09-02  2154.197143  1811.206000  2857.240000          NaN    30.010000\n",
              "2016-10-01  2535.438000  1689.242500  2327.763333  1529.912000          NaN\n",
              "2016-10-02  2502.705000  1848.804000  4180.456667  2905.945000          NaN\n",
              "2016-11-01  2027.597500  2416.430000  2594.050000  1444.087500          NaN\n",
              "2016-11-02  3376.294000  3351.983333  3742.430000  2604.766000          NaN\n",
              "2016-12-01  3458.876667  1683.400000  1910.436667  2333.158333  2770.766667"
            ]
          },
          "metadata": {
            "tags": []
          }
        }
      ]
    },
    {
      "cell_type": "markdown",
      "metadata": {
        "id": "EscCf2yr5EET",
        "colab_type": "text"
      },
      "source": [
        "**Stacking**"
      ]
    },
    {
      "cell_type": "code",
      "metadata": {
        "id": "gbkVoQ6f5GmA",
        "colab_type": "code",
        "colab": {
          "base_uri": "https://localhost:8080/",
          "height": 221
        },
        "outputId": "e5b31e9c-e077-41da-e49f-0e80b0e5a5d1"
      },
      "source": [
        "print(df.stack())"
      ],
      "execution_count": 52,
      "outputs": [
        {
          "output_type": "stream",
          "text": [
            "0    serial_no                1000\n",
            "     user_id                  -101\n",
            "     product_id                  0\n",
            "     quantity_purchased         23\n",
            "     price                 3269.85\n",
            "                            ...   \n",
            "999  price                 3156.08\n",
            "     user_type                   a\n",
            "     user_class                new\n",
            "     purchase_week              26\n",
            "     encoded_user_type           0\n",
            "Length: 9907, dtype: object\n"
          ],
          "name": "stdout"
        }
      ]
    }
  ]
}